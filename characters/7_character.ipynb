{
 "cells": [
  {
   "cell_type": "markdown",
   "metadata": {},
   "source": [
    "В этой главе вы научились использовать input() для того, чтобы пользователи\n",
    "могли вводить собственную информацию в своих программах. Вы научились рабо-\n",
    "тать с числовыми и текстовыми данными, а также управлять продолжительностью\n",
    "выполнения своих программ с помощью циклов while. Также мы рассмотрели\n",
    "несколько способов управления циклами while: установку флага, команду break\n",
    "и команду continue. Вы узнали, как использовать цикл while для перемещения\n",
    "элементов из одного списка в другой и как удалить все вхождения некоторого\n",
    "значения из списка. Также были рассмотрены возможности применения циклов\n",
    "while со словарями.\n",
    "Глава 8 посвящена функциям. Функции позволяют разделить программу на мень-\n",
    "шие части, каждая из которых решает одну конкретную задачу. Функции можно\n",
    "хранить в отдельных файлах и вызывать их столько раз, сколько потребуется.\n",
    "Благодаря функциям вы сможете писать более эффективный код, более простой\n",
    "в отладке и сопровождении, который к тому же можно повторно использовать\n",
    "в разных программах."
   ]
  },
  {
   "cell_type": "code",
   "execution_count": null,
   "metadata": {},
   "outputs": [],
   "source": [
    "message = input(\"tell me something, and i show you it: \")\n",
    "print(message)"
   ]
  },
  {
   "cell_type": "code",
   "execution_count": null,
   "metadata": {},
   "outputs": [],
   "source": [
    "prompt = \"If you tell us your name, we can personalize the messages you see.\"\n",
    "prompt += \"\\nWhat is your first name? \"\n",
    "\n",
    "name = input(prompt)\n",
    "print(f\"\\nHi, {name.title()}!\")"
   ]
  },
  {
   "cell_type": "code",
   "execution_count": null,
   "metadata": {},
   "outputs": [],
   "source": [
    "age = input(\"How old are you? \")\n",
    "age = int(age)\n",
    "if age >= 18:\n",
    "    print(f\"\\nYour age, {age}, more 18.\")"
   ]
  },
  {
   "cell_type": "code",
   "execution_count": null,
   "metadata": {},
   "outputs": [],
   "source": [
    "height = input(\"How tall are you, in inches? \")\n",
    "height = int(height)\n",
    "\n",
    "if height >= 36:\n",
    "    print(\"\\nYou're tall enough to ride!\")\n",
    "else:\n",
    "    print(\"\\nYou'll be able to ride when you're a little older.\")\n"
   ]
  },
  {
   "cell_type": "code",
   "execution_count": null,
   "metadata": {},
   "outputs": [],
   "source": [
    "number = input(\"Enter the number, and we tell you, even or odd it: \")\n",
    "number = int(number)\n",
    "\n",
    "if number % 2 == 0:\n",
    "    print(f\"The number {number} is even\")\n",
    "else:\n",
    "    print(f\"The number {number} is odd.\")"
   ]
  },
  {
   "cell_type": "code",
   "execution_count": null,
   "metadata": {},
   "outputs": [],
   "source": [
    "message = input(\"Tell me what car, you want to order? \")\n",
    "print(f\"Ok, give me a minute, searching '{message.title()}'.\")"
   ]
  },
  {
   "cell_type": "code",
   "execution_count": null,
   "metadata": {},
   "outputs": [],
   "source": [
    "order_table_message = input(\"How many people do you want to order a table for? \")\n",
    "table = int(order_table_message)\n",
    "\n",
    "if table > 8:\n",
    "    print(\"We need more time to prepare the table. Please wait for feedback.\")\n",
    "else:\n",
    "    print(\"The table is ready, the reservation is confirmed.\")"
   ]
  },
  {
   "cell_type": "code",
   "execution_count": null,
   "metadata": {},
   "outputs": [],
   "source": [
    "numbers = input(\"enter a number to check the multiplicity by 10 \")\n",
    "number = int(numbers)\n",
    "\n",
    "if number % 10 == 0:\n",
    "    print(f\"This number, {number}, is a multiple of 10.\")\n",
    "else:\n",
    "    print(f\"This number, {number}, is not a multiply of 10.\")"
   ]
  },
  {
   "cell_type": "code",
   "execution_count": null,
   "metadata": {},
   "outputs": [],
   "source": [
    "current_number = 1\n",
    "while current_number <=5:\n",
    "    print(current_number)\n",
    "    current_number += 1"
   ]
  },
  {
   "cell_type": "code",
   "execution_count": null,
   "metadata": {},
   "outputs": [],
   "source": [
    "prompt = \"\\nTell me something, and i will repeat it back to you: \"\n",
    "prompt += \"\\nEnter 'quit' to end the program.\"\n",
    "message = \"\"\n",
    "while message != 'quit':\n",
    "    message = input(prompt)\n",
    "    if message != 'quit':\n",
    "        print(message)"
   ]
  },
  {
   "cell_type": "code",
   "execution_count": null,
   "metadata": {},
   "outputs": [],
   "source": [
    "prompt = \"\\nTell me something, and i will repeat it back to you: \"\n",
    "prompt += \"\\nEnter 'quit' to end the program.\"\n",
    "\n",
    "active = True\n",
    "\n",
    "while active:\n",
    "    message = input(prompt)\n",
    "    \n",
    "    if message == 'quit':\n",
    "        active = False\n",
    "    else:\n",
    "        print(message)"
   ]
  },
  {
   "cell_type": "code",
   "execution_count": null,
   "metadata": {},
   "outputs": [],
   "source": [
    "prompt = \"Enter your favorite city, and we repeat it back to you\"\n",
    "prompt += \"If you want to end. Enter 'quit'\"\n",
    "\n",
    "while True:\n",
    "    message = input(prompt)\n",
    "    \n",
    "    if message == 'quit':\n",
    "        break\n",
    "    else:\n",
    "        print(f\"I'd love to go to {message.title()}!\")"
   ]
  },
  {
   "cell_type": "code",
   "execution_count": null,
   "metadata": {},
   "outputs": [],
   "source": [
    "current_number = 0 \n",
    "while current_number < 10:\n",
    "    current_number += 1\n",
    "    if current_number % 2 == 0:\n",
    "        continue\n",
    "    print(current_number)\n",
    "    "
   ]
  },
  {
   "cell_type": "code",
   "execution_count": null,
   "metadata": {},
   "outputs": [],
   "source": [
    "prompt = \"Enter the pizza add-ons\"\n",
    "prompt += \"\\nIf you want to end, enter 'quit'\"\n",
    "\n",
    "while True:\n",
    "    addon = input(prompt)\n",
    "    \n",
    "    if addon == 'quit':\n",
    "        break\n",
    "    else:\n",
    "        print(f\"The {addon} has been added\")\n",
    "    "
   ]
  },
  {
   "cell_type": "code",
   "execution_count": null,
   "metadata": {},
   "outputs": [],
   "source": [
    "prompt = \"Enter your age, and you see the price for ticket\\nIf you wand finish, enter 'quit'\"\n",
    "\n",
    "while True:\n",
    "    age = input(prompt)\n",
    "    \n",
    "    if age == 'quit' or age == '':\n",
    "        break\n",
    "    \n",
    "    if age.isdigit():\n",
    "        age = int(age)\n",
    "        \n",
    "        if age < 3:\n",
    "            print(\"Ticket is free\")\n",
    "        elif age >= 3 and age <= 12:\n",
    "            print(\"Ticket price is 10$\")\n",
    "        elif age > 12:\n",
    "            print(\"Ticket price is 15$\")\n",
    "    else:\n",
    "        print(\"That's not a valid age. Please enter a number.\")\n",
    "\n"
   ]
  },
  {
   "cell_type": "code",
   "execution_count": null,
   "metadata": {},
   "outputs": [],
   "source": [
    "# Бесконечный цикл\n",
    "a = 1\n",
    "while a < 2:\n",
    "    print(a)\n"
   ]
  },
  {
   "cell_type": "code",
   "execution_count": null,
   "metadata": {},
   "outputs": [],
   "source": [
    "unconfirmed_users = ['alice', 'brian', 'candance']\n",
    "confirmed_users = []\n",
    "\n",
    "while unconfirmed_users:\n",
    "    current_user = unconfirmed_users.pop()\n",
    "    \n",
    "    print(f\"Verifying user: {current_user.title()}\")\n",
    "    confirmed_users.append(current_user)\n",
    "\n",
    "print(f\"\\nThe following users have been confirmed: \")\n",
    "for confirmed_user in confirmed_users:\n",
    "    print(confirmed_user.title())"
   ]
  },
  {
   "cell_type": "code",
   "execution_count": null,
   "metadata": {},
   "outputs": [],
   "source": [
    "pets = ['cat', 'dog', 'cat', 'mouse', 'cat', 'elephant', 'cat']\n",
    "\n",
    "while 'cat' in pets:\n",
    "    pets.remove('cat')\n",
    "    \n",
    "print(pets)"
   ]
  },
  {
   "cell_type": "code",
   "execution_count": null,
   "metadata": {},
   "outputs": [],
   "source": [
    "# Заполнение словаря данными, введенными пользователем\n",
    "responses = {}\n",
    "\n",
    "polling_active = True\n",
    "\n",
    "while polling_active:\n",
    "    name = input(\"\\nWhat is your name? \")\n",
    "    response = input(\"Which mountain would you like to climb someday? \")\n",
    "\n",
    "    responses[name] = response\n",
    "    \n",
    "    repeat = input(\"Would you like to let another person respond? (yes/ no)\")\n",
    "    if repeat == 'no':\n",
    "        polling_active = False\n",
    "        \n",
    "print(\"\\n---Poll Results---\")\n",
    "for name, response in responses.items():\n",
    "    print(f\"{name} would like to climb {response}.\")\n",
    "\n",
    "print(responses)"
   ]
  },
  {
   "cell_type": "code",
   "execution_count": null,
   "metadata": {},
   "outputs": [],
   "source": [
    "sandwich_orders = ['tuna', 'meat', 'fruts','vegan']\n",
    "finished_sandwiches = []\n",
    "\n",
    "while sandwich_orders:\n",
    "    current_sandwich = sandwich_orders.pop()\n",
    "    print(f\"I made you {current_sandwich}!\")\n",
    "\n",
    "    finished_sandwiches.append(current_sandwich)\n",
    "print(\"\\nFinished sandwiches: \")\n",
    "for finished_sandwich in finished_sandwiches:   \n",
    "    print(f\"-{finished_sandwich}.\")"
   ]
  },
  {
   "cell_type": "code",
   "execution_count": null,
   "metadata": {},
   "outputs": [],
   "source": [
    "sandwich_orders = [\n",
    "    'tuna',\n",
    "    'pastrami',\n",
    "    'meat',\n",
    "    'pastrami',\n",
    "    'fruts',\n",
    "    'pastrami',\n",
    "    ]\n",
    "\n",
    "print(\"Now we don't have 'pastrami'\\n\")\n",
    "\n",
    "while 'pastrami' in sandwich_orders:\n",
    "    sandwich_orders.remove('pastrami')\n",
    "    \n",
    "finished_sandwiches = []\n",
    "\n",
    "while sandwich_orders:\n",
    "    current_sandwich = sandwich_orders.pop()\n",
    "    print(f\"I made you {current_sandwich}!\")\n",
    "\n",
    "    finished_sandwiches.append(current_sandwich)\n",
    "    \n",
    "print(\"\\nFinished sandwiches: \")\n",
    "for finished_sandwich in finished_sandwiches:   \n",
    "    print(f\"-{finished_sandwich}.\")"
   ]
  },
  {
   "cell_type": "code",
   "execution_count": 94,
   "metadata": {},
   "outputs": [
    {
     "name": "stdout",
     "output_type": "stream",
     "text": [
      "\n",
      "---Results Response---\n",
      "Vova would like to visit France\n",
      "Pavel would like to visit Italy\n",
      "Turkey would like to visit no\n"
     ]
    }
   ],
   "source": [
    "vacations = {}\n",
    "\n",
    "polling_active = True\n",
    "\n",
    "while polling_active:\n",
    "    name = input(\"What is your name? \")\n",
    "    location = input(\"Where would you like to go for a vacation?\")\n",
    "    \n",
    "    vacations[name] = location\n",
    "\n",
    "    repeat = input(\"Would you like to another person respond? (yes / no)\")\n",
    "    if repeat == 'no':\n",
    "        polling_active = False\n",
    "\n",
    "print(\"\\n---Results Response---\")\n",
    "for name, location in vacations.items():\n",
    "    print(f\"{name} would like to visit {location}\")"
   ]
  }
 ],
 "metadata": {
  "kernelspec": {
   "display_name": "Python 3",
   "language": "python",
   "name": "python3"
  },
  "language_info": {
   "codemirror_mode": {
    "name": "ipython",
    "version": 3
   },
   "file_extension": ".py",
   "mimetype": "text/x-python",
   "name": "python",
   "nbconvert_exporter": "python",
   "pygments_lexer": "ipython3",
   "version": "3.12.1"
  }
 },
 "nbformat": 4,
 "nbformat_minor": 2
}

{
 "cells": [
  {
   "cell_type": "code",
   "execution_count": 4,
   "metadata": {},
   "outputs": [
    {
     "name": "stdout",
     "output_type": "stream",
     "text": [
      "Разрешено добавлять сообщения\n",
      "Разрешено удалять пользователей\n",
      "Разрешено закреплять сообщения\n"
     ]
    }
   ],
   "source": [
    "import admin_prive as admin\n",
    "        \n",
    "new_admin = admin.Admin('Vika', 'Ivanova', 35, 'Ukhta')\n",
    "\n",
    "new_admin.privileges.show_moves()"
   ]
  }
 ],
 "metadata": {
  "kernelspec": {
   "display_name": "Python 3",
   "language": "python",
   "name": "python3"
  },
  "language_info": {
   "codemirror_mode": {
    "name": "ipython",
    "version": 3
   },
   "file_extension": ".py",
   "mimetype": "text/x-python",
   "name": "python",
   "nbconvert_exporter": "python",
   "pygments_lexer": "ipython3",
   "version": "3.12.1"
  }
 },
 "nbformat": 4,
 "nbformat_minor": 2
}

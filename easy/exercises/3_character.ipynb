{
 "cells": [
  {
   "cell_type": "markdown",
   "metadata": {},
   "source": [
    "В этой главе вы узнали, что представляют собой списки и как работать с отдельны-\n",
    "ми элементами в списках. Вы научились определять списки, добавлять и удалять\n",
    "элементы, выполнять сортировку (постоянную или временную для отображения).\n",
    "Также вы узнали, как определить длину списка и как избежать ошибок индекси-\n",
    "рования при работе со списком.\n",
    "В главе 4 рассматриваются приемы более эффективной работы со списками. Пере-\n",
    "бор всех элементов списка всего в нескольких строках кода, даже если список со-\n",
    "держит тысячи или миллионы элементов, сокращает объем программы."
   ]
  },
  {
   "cell_type": "code",
   "execution_count": 1,
   "metadata": {},
   "outputs": [
    {
     "name": "stdout",
     "output_type": "stream",
     "text": [
      "specialized\n",
      "Vova\n",
      "Pasha\n",
      "Vanya\n",
      "My best of friends is Vova\n",
      "My best of friends is Pasha\n",
      "My best of friends is Vanya\n"
     ]
    }
   ],
   "source": [
    "# Chapter 3\n",
    "\n",
    "bicycles = ['trek', 'cannondale', 'redline', 'specialized']\n",
    "print(bicycles[-1])\n",
    "            \n",
    "friends = ['Vova', 'Pasha', 'Vanya']\n",
    "print(friends[0])\n",
    "print(friends[1])\n",
    "print(friends[2])\n",
    "\n",
    "print(\"My best of friends is \" + friends[0])\n",
    "print(\"My best of friends is \" + friends[1])\n",
    "print(\"My best of friends is \" + friends[2])"
   ]
  },
  {
   "cell_type": "code",
   "execution_count": null,
   "metadata": {},
   "outputs": [],
   "source": [
    "motorcycles = ['honda', 'yamaha', 'suzuki']\n",
    "print(motorcycles)  \n",
    "\n",
    "motorcycles.append('ducati')\n",
    "motorcycles[0] = 'ducati'\n",
    "\n",
    "print(motorcycles)"
   ]
  },
  {
   "cell_type": "code",
   "execution_count": null,
   "metadata": {},
   "outputs": [],
   "source": [
    "motorcycles = []\n",
    "\n",
    "def Kaka(ishnalam, mama)\n",
    "\n",
    "motorcycles.append('honda')\n",
    "motorcycles.append('yamaha')\n",
    "motorcycles.append('suzuki')\n",
    "\n",
    "print(motorcycles)\n",
    "\n",
    "first_owned = motorcycles.pop(0)\n",
    "print ('The first motorcycle I owned was a ' + first_owned.title() + '.')\n",
    "\n",
    "# motorcycles.insert(0, 'ducati')\n",
    "# print(motorcycles)\n",
    "\n",
    "# del motorcycles[0]\n",
    "# print(motorcycles)\n",
    "\n",
    "# del motorcycles[2]\n",
    "# print(motorcycles)\n",
    "\n",
    "# motorcycles.remove('yamaha')\n",
    "print(motorcycles)\n",
    "# print(first_owned)"
   ]
  },
  {
   "cell_type": "code",
   "execution_count": null,
   "metadata": {},
   "outputs": [],
   "source": [
    "visiters = []\n",
    "\n",
    "visiters.append('mary')\n",
    "visiters.append('serhey')\n",
    "visiters.append('elcin')\n",
    "visiters.append('gagarin')\n",
    "\n",
    "print(visiters)\n",
    "\n",
    "def happyBirthday(visiters):\n",
    "    \n",
    "    for i in range(len(visiters)):\n",
    "        message = 'Dear, ' + str.title(visiters[i]) + ', I invite you to visit on January 1st.'\n",
    "        print(message)\n",
    "\n",
    "happyBirthday(visiters)\n",
    "\n",
    "print('Mary not visit')\n",
    "\n",
    "visiters[0] = 'Stalin'\n",
    "happyBirthday(visiters)\n",
    "\n",
    "print('More visitors : ')\n",
    "\n",
    "visiters.insert(0, 'Cesar')\n",
    "visiters.insert(2, 'Petr Pervii')\n",
    "visiters.append('Tor')\n",
    "\n",
    "happyBirthday(visiters)\n",
    "print(visiters)\n",
    "\n",
    "print('Only 2 slots, sorry')\n"
   ]
  },
  {
   "cell_type": "code",
   "execution_count": 1,
   "metadata": {},
   "outputs": [
    {
     "name": "stdout",
     "output_type": "stream",
     "text": [
      "['Cesar', 'Stalin', 'Petr Pervii', 'serhey', 'elcin', 'gagarin', 'Tor']\n",
      "Sorry, Tor, no more free slots.\n",
      "Sorry, Gagarin, no more free slots.\n",
      "Sorry, Elcin, no more free slots.\n",
      "Sorry, Serhey, no more free slots.\n",
      "Sorry, Petr Pervii, no more free slots.\n",
      "Dear, Cesar, i wait you.\n",
      "Dear, Stalin, i wait you.\n",
      "['Stalin']\n"
     ]
    }
   ],
   "source": [
    "visiters = ['Cesar', 'Stalin', 'Petr Pervii', 'serhey', 'elcin', 'gagarin', 'Tor']\n",
    "print(visiters)\n",
    "\n",
    "def sorry(visiters):\n",
    "    while len(visiters) > 2: \n",
    "        leaver = visiters.pop()\n",
    "        print('Sorry, ' + leaver.title() + ', no more free slots.')\n",
    "        \n",
    "sorry(visiters) \n",
    "\n",
    "# def sorry(visiters):\n",
    "#     while len(visiters) > 2: \n",
    "#         for leaver in reversed(visiters):\n",
    "#             print('Sorry, ' + leaver.title() + ', no more free slots.')\n",
    "#             visiters.remove(leaver)\n",
    "\n",
    "# sorry(visiters)\n",
    "\n",
    "\n",
    "for i in range(len(visiters)):\n",
    "    print(f'Dear, {visiters[i].title()}, i wait you.')\n",
    "\n",
    "del visiters[0]\n",
    "# del visiters[1]\n",
    "print(visiters)"
   ]
  },
  {
   "cell_type": "code",
   "execution_count": null,
   "metadata": {},
   "outputs": [],
   "source": [
    "# Упорядочивание списков \n",
    "\n",
    "cars = ['bmw', 'mersedes', 'audi', 'toyota', 'subaru']\n",
    "\n",
    "# cars.sort()\n",
    "# print(cars)\n",
    "\n",
    "# cars.sort(reverse=True)\n",
    "# print(cars)\n",
    "print('Here is original list:')\n",
    "print(cars)\n",
    "\n",
    "print('\\nHere is sorted list:')\n",
    "print(sorted(cars))\n",
    "\n",
    "print('\\nHere is original list again:')\n",
    "print(cars)\n"
   ]
  },
  {
   "cell_type": "code",
   "execution_count": null,
   "metadata": {},
   "outputs": [],
   "source": [
    "# Countries\n",
    "\n",
    "Countries = ['Russia','Turkey','France','USA','Japan']\n",
    "\n",
    "print(Countries)\n",
    "print(sorted(Countries))\n",
    "print(Countries)\n",
    "Countries.reverse()\n",
    "print(Countries)\n",
    "Countries.reverse()\n",
    "print(Countries)\n",
    "Countries.sort()\n",
    "print(Countries)\n",
    "Countries.sort(reverse=True)\n",
    "print(Countries)\n"
   ]
  }
 ],
 "metadata": {
  "kernelspec": {
   "display_name": "Python 3",
   "language": "python",
   "name": "python3"
  },
  "language_info": {
   "codemirror_mode": {
    "name": "ipython",
    "version": 3
   },
   "file_extension": ".py",
   "mimetype": "text/x-python",
   "name": "python",
   "nbconvert_exporter": "python",
   "pygments_lexer": "ipython3",
   "version": "3.12.0"
  }
 },
 "nbformat": 4,
 "nbformat_minor": 2
}

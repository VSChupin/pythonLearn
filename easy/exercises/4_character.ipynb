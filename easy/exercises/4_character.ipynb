{
 "cells": [
  {
   "cell_type": "code",
   "execution_count": null,
   "metadata": {},
   "outputs": [],
   "source": [
    "magicals = ['Alex', 'Bob', 'Mumo']\n",
    "for magical in magicals:\n",
    "    print(magical.title() + ', what was a great trick') \n",
    "    print(\"I can't wait your next trick, \" + magical.title() + \".\\n\")\n",
    "print('Thank you, everyone!')"
   ]
  },
  {
   "cell_type": "code",
   "execution_count": null,
   "metadata": {},
   "outputs": [],
   "source": [
    "pizzas = ['Pepperoni', 'Every', 'Three cheeze']\n",
    "for pizza in pizzas:\n",
    "    print('I like ' + pizza.title() + '.')\n",
    "print('I really like pizzas')"
   ]
  },
  {
   "cell_type": "code",
   "execution_count": null,
   "metadata": {},
   "outputs": [],
   "source": [
    "animals = ['dog', 'cat', 'mouse']\n",
    "for animal in animals:\n",
    "    print('A ' + animal.title() + ' would be make a great pet')\n"
   ]
  },
  {
   "cell_type": "code",
   "execution_count": null,
   "metadata": {},
   "outputs": [],
   "source": [
    "for value in range(1,5):\n",
    "    print(value)"
   ]
  },
  {
   "cell_type": "code",
   "execution_count": null,
   "metadata": {},
   "outputs": [],
   "source": [
    "numbers = list(range(1,6))\n",
    "print(numbers)"
   ]
  },
  {
   "cell_type": "code",
   "execution_count": null,
   "metadata": {},
   "outputs": [],
   "source": [
    "even_numbers = list(range(2,11,2))\n",
    "print(even_numbers)"
   ]
  },
  {
   "cell_type": "code",
   "execution_count": null,
   "metadata": {},
   "outputs": [],
   "source": [
    "squares = []\n",
    "for value in range(1,11):\n",
    "    square = value**2\n",
    "    squares.append(square)\n",
    "print(squares)"
   ]
  },
  {
   "cell_type": "code",
   "execution_count": null,
   "metadata": {},
   "outputs": [],
   "source": [
    "squares = []\n",
    "for value in range(1,11):\n",
    "    squares.append(value**2)\n",
    "print(squares)\n",
    "print(min(squares))\n",
    "print(max(squares))\n",
    "print(sum(squares))"
   ]
  },
  {
   "cell_type": "code",
   "execution_count": null,
   "metadata": {},
   "outputs": [],
   "source": [
    "squares = [value**2 for value in range(1,11)]\n",
    "print(squares)"
   ]
  },
  {
   "cell_type": "code",
   "execution_count": null,
   "metadata": {},
   "outputs": [],
   "source": [
    "for value in range(1,21):\n",
    "    print(value)"
   ]
  },
  {
   "cell_type": "code",
   "execution_count": null,
   "metadata": {},
   "outputs": [],
   "source": [
    "print(list(range(1,101)))"
   ]
  },
  {
   "cell_type": "code",
   "execution_count": null,
   "metadata": {},
   "outputs": [],
   "source": [
    "numbers = list(range(1,10000001))\n",
    "print(min(numbers))\n",
    "print(max(numbers))\n",
    "print(sum(numbers))\n"
   ]
  },
  {
   "cell_type": "code",
   "execution_count": null,
   "metadata": {},
   "outputs": [],
   "source": [
    "for value in list(range(1,20,2)):\n",
    "    print(value)"
   ]
  },
  {
   "cell_type": "code",
   "execution_count": null,
   "metadata": {},
   "outputs": [],
   "source": [
    "for value in list(range(3,30,3)):\n",
    "    print(value)"
   ]
  },
  {
   "cell_type": "code",
   "execution_count": null,
   "metadata": {},
   "outputs": [],
   "source": [
    "numbers = [value**3 for value in list(range(1,11))]\n",
    "for number in numbers:\n",
    "    print(number)"
   ]
  },
  {
   "cell_type": "code",
   "execution_count": null,
   "metadata": {},
   "outputs": [],
   "source": [
    "players = ['Alex', 'Vova', 'Bob', 'Marshal', 'Kevin']\n",
    "print(players[-2:])"
   ]
  },
  {
   "cell_type": "code",
   "execution_count": null,
   "metadata": {},
   "outputs": [],
   "source": [
    "players = ['Vova', 'Vasya', 'Ivan', 'Kolya', 'Evgen', 'Petr']\n",
    "print('There is my 3 first players: ')\n",
    "for player in players[:3]:\n",
    "    print(player.title())"
   ]
  },
  {
   "cell_type": "code",
   "execution_count": null,
   "metadata": {},
   "outputs": [],
   "source": [
    "my_foods = ['meat', 'orange', 'milk', 'bread', 'tomato']\n",
    "jane_foods = my_foods[:]\n",
    "\n",
    "my_foods.append('pasta')\n",
    "jane_foods.append('potato')\n",
    "\n",
    "print('My favorite foods, are :')\n",
    "print(my_foods)\n",
    "\n",
    "print('\\nJane favorite foods, are :')\n",
    "print(jane_foods)\n",
    "\n",
    "print('\\nMy first three favorite foods, are: ')\n",
    "for food in my_foods[:3]:\n",
    "    print(food)\n",
    "\n",
    "print('\\nJane last three favoture foods, are: ')\n",
    "for food in jane_foods[-3:]:\n",
    "    print(food)\n",
    "\n",
    "print('\\nMy middle three favoture foods, are: ')\n",
    "for food in my_foods[3:7]:\n",
    "    print(food)"
   ]
  },
  {
   "cell_type": "code",
   "execution_count": null,
   "metadata": {},
   "outputs": [],
   "source": [
    "my_pizzas = ['Pepperoni', 'Every', 'Three cheeze']\n",
    "for pizza in my_pizzas:\n",
    "    print('I like ' + pizza.title() + '.')\n",
    "print('I really like pizzas')\n",
    "\n",
    "his_pizzas = my_pizzas[:]\n",
    "\n",
    "my_pizzas.append('fisher')\n",
    "his_pizzas.append('fruit')\n",
    "\n",
    "print('\\nMy favorite pizzas are: ')\n",
    "for pizza in my_pizzas:\n",
    "        print(pizza)\n",
    "\n",
    "print('\\nHis favorite pizzas are: ')\n",
    "for pizza in his_pizzas:\n",
    "    print(pizza)\n",
    "        \n"
   ]
  },
  {
   "cell_type": "code",
   "execution_count": null,
   "metadata": {},
   "outputs": [],
   "source": [
    "dimensions = (200,50)\n",
    "for dimension in dimensions:\n",
    "    print(dimension)"
   ]
  },
  {
   "cell_type": "code",
   "execution_count": null,
   "metadata": {},
   "outputs": [],
   "source": [
    "menu = ('Apple', 'Bread', 'Milk', 'Tomato')\n",
    "for thing in menu:\n",
    "    print(thing)\n",
    "\n",
    "# menu[0] = 'okko'\n",
    "print('\\n')\n",
    "menu = ('breading', 'Kisla', 'Chapta')\n",
    "for thing in menu:\n",
    "    print(thing)"
   ]
  }
 ],
 "metadata": {
  "kernelspec": {
   "display_name": "Python 3",
   "language": "python",
   "name": "python3"
  },
  "language_info": {
   "codemirror_mode": {
    "name": "ipython",
    "version": 3
   },
   "file_extension": ".py",
   "mimetype": "text/x-python",
   "name": "python",
   "nbconvert_exporter": "python",
   "pygments_lexer": "ipython3",
   "version": "3.12.0"
  }
 },
 "nbformat": 4,
 "nbformat_minor": 2
}

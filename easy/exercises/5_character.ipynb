{
 "cells": [
  {
   "cell_type": "markdown",
   "metadata": {},
   "source": [
    "В этой главе вы научились писать условия, результатом которых всегда яв-\n",
    "ляется логическое значение (True или False.) Вы научились писать простые\n",
    "команды if, цепочки if-else и цепочки if-elif-else. Вы начали использовать\n",
    "эти структуры для выявления конкретных условий, которые необходимо про-\n",
    "верить, и проверки этих условий в ваших программах. Вы узнали, как обес­\n",
    "печить специальную обработку некоторых элементов в списке с сохранением\n",
    "эффективности циклов for. Также мы вернулись к стилевым рекомендациям\n",
    "Python, с которыми более сложные программы становятся относительно про-\n",
    "стыми для чтения и понимания.\n",
    "В главе 6 рассматриваются словари Python. Словарь отчасти напоминает список,\n",
    "но он позволяет связывать разные виды информации. Вы научитесь создавать\n",
    "словари, перебирать их элементы, использовать их в сочетании со списками\n",
    "и командами if. Словари помогут вам моделировать еще более широкий спектр\n",
    "реальных ситуаций."
   ]
  },
  {
   "cell_type": "code",
   "execution_count": null,
   "metadata": {},
   "outputs": [],
   "source": [
    "cars = ['bmw', 'audi', 'toyota', 'mersedes']\n",
    "for car in cars:\n",
    "    if car == 'bmw':\n",
    "        print(car.upper())\n",
    "    else:\n",
    "        print(car.title())\n",
    "        "
   ]
  },
  {
   "cell_type": "code",
   "execution_count": null,
   "metadata": {},
   "outputs": [],
   "source": [
    "request_topings = ['mushrooms']\n",
    "if request_topings != 'anchous':\n",
    "    print('no choose anchous')"
   ]
  },
  {
   "cell_type": "code",
   "execution_count": null,
   "metadata": {},
   "outputs": [],
   "source": [
    "cars = ['subaru']\n",
    "new_car = 'subaru'\n",
    "# print(\"I predict True, if car == 'subaru'\")\n",
    "# print(car == 'subaru')\n",
    "\n",
    "# print(\"\\nI predict Folse, if car == 'audi'\")\n",
    "# print(car == 'audi')\n",
    "\n",
    "# print(\"\\nI predict true, if car != audi\")\n",
    "# print(car != 'audi')\n",
    "\n",
    "# print(\"\\nI predict False, then car == 'subaru' and == 'bmw'\")\n",
    "# print(car == 'subaru' and car == 'bmw')\n",
    "\n",
    "# print(\"\\nI predict True, then car != 'subaru23' or car == 'subaru'\")\n",
    "# print(car != 'subaru23' or car == 'subaru')\n",
    "\n",
    "print(\"\\nI predict True, then car.lower == 'subaru'\")\n",
    "print(car.lower() == 'subaru')\n",
    "\n",
    "print(\"\\nI predict false, then car 'audi' in cars\")\n",
    "print(new_car in cars)\n",
    "\n",
    "print(\"\\nI predict True, then new_car not in cars\")\n",
    "# print(new_car not in cars or new_car in cars)\n",
    "print(cars == 'bagati' and cars == '11' and cars == '15' and cars == '14' or new_car in cars)\n",
    "\n",
    "    \n",
    "\n",
    "    "
   ]
  },
  {
   "cell_type": "code",
   "execution_count": null,
   "metadata": {},
   "outputs": [],
   "source": [
    "age = 19 \n",
    "if age < 4: \n",
    "    print('Your price 5$')\n",
    "elif age < 18: \n",
    "    print('Your price 10$')\n",
    "else:\n",
    "    print('Your price 15$')\n",
    "    "
   ]
  },
  {
   "cell_type": "code",
   "execution_count": null,
   "metadata": {},
   "outputs": [],
   "source": [
    "age = 22\n",
    "\n",
    "if age < 4:\n",
    "    price = 5\n",
    "elif age < 18:\n",
    "    price = 10\n",
    "elif age < 65:\n",
    "    price = 15\n",
    "else:\n",
    "    price = 5\n",
    "    \n",
    "print(\"Your price is \" + str(price) + \"$.\")"
   ]
  },
  {
   "cell_type": "code",
   "execution_count": null,
   "metadata": {},
   "outputs": [],
   "source": [
    "request_topings = ['mushrooms', 'orange', 'vegitables']\n",
    "if 'mushrooms' in request_topings:\n",
    "    print('Mushrooms added')\n",
    "if 'orange' in request_topings:\n",
    "    print('Orange added')\n",
    "if 'vega' in request_topings:\n",
    "    print('vega added')\n",
    "    \n",
    "print('\\nFinished making your pizza')"
   ]
  },
  {
   "cell_type": "code",
   "execution_count": null,
   "metadata": {},
   "outputs": [],
   "source": [
    "alien_color = 'red'\n",
    "if alien_color == 'red':\n",
    "    print('The player got 5 levels')\n",
    "    "
   ]
  },
  {
   "cell_type": "code",
   "execution_count": null,
   "metadata": {},
   "outputs": [],
   "source": [
    "alien_color = 'red'\n",
    "if 'green' == alien_color:\n",
    "    print('player got 5 levels')\n"
   ]
  },
  {
   "cell_type": "code",
   "execution_count": null,
   "metadata": {},
   "outputs": [],
   "source": [
    "alien_color = 'red'\n",
    "if 'green' == alien_color:\n",
    "    print('player got 5 levels')\n",
    "else: \n",
    "    print('player got 10 levels')"
   ]
  },
  {
   "cell_type": "code",
   "execution_count": null,
   "metadata": {},
   "outputs": [],
   "source": [
    "alien_color = 'red'\n",
    "if 'red' == alien_color:\n",
    "    print('player got 5 levels')\n",
    "else: \n",
    "    print('player got 10 levels')"
   ]
  },
  {
   "cell_type": "code",
   "execution_count": null,
   "metadata": {},
   "outputs": [],
   "source": [
    "alien_color = 'yellow'\n",
    "if alien_color == 'red':\n",
    "    levels = 5\n",
    "elif alien_color == 'green':\n",
    "    levels = 10\n",
    "elif alien_color == \"yellow\":\n",
    "    levels = 15\n",
    "elif alien_color == 'blue':\n",
    "    levels = 20\n",
    "print(\"\\nThe player got \" + str(levels) + \".\")"
   ]
  },
  {
   "cell_type": "code",
   "execution_count": null,
   "metadata": {},
   "outputs": [],
   "source": [
    "age = 72\n",
    "if age < 2:\n",
    "    old = 'baby'\n",
    "elif age >= 2 and age < 4:\n",
    "    old = 'malysh'\n",
    "elif age >= 13 and age < 20:\n",
    "    old = 'rebyonok'\n",
    "elif age >=20 and age < 65:\n",
    "    old = 'vzroslii' \n",
    "else: \n",
    "    old = 'pozhiloy'\n",
    "\n",
    "print(\"Your old sootvetstvuet = \" + str(old) + \".\")\n"
   ]
  },
  {
   "cell_type": "code",
   "execution_count": null,
   "metadata": {},
   "outputs": [],
   "source": [
    "favorites_fruits = ['apple', 'orange', 'green', 'vegans', 'glory']\n",
    "if 'apple' in favorites_fruits:\n",
    "    favor = 'apple'\n",
    "    print(\"You really like \" + str(favor) + \".\")\n",
    "if 'grusha' in favorites_fruits:\n",
    "    favor = 'grusha'\n",
    "    print(\"You really like \" + str(favor) + \".\")\n",
    "if 'glory' in favorites_fruits:\n",
    "    favor = 'glory'\n",
    "    print(\"You really like \" + str(favor) + \".\")\n",
    "if 'grusha' in favorites_fruits:\n",
    "    favor = 'grusha'\n",
    "    print(\"You really like \" + str(favor) + \".\")\n",
    "if 'green' in favorites_fruits:\n",
    "    favor = 'green'\n",
    "    print(\"You really like \" + str(favor) + \".\")"
   ]
  },
  {
   "cell_type": "code",
   "execution_count": null,
   "metadata": {},
   "outputs": [],
   "source": [
    "requests_topings = []\n",
    "if requests_topings:\n",
    "    for request_topings in requests_topings:\n",
    "        if request_topings == 'green papers':\n",
    "            print(\"We don't have green papers, sorry\")\n",
    "        else:\n",
    "            print(\"Your choose speace - \" + str.title(request_topings) + \", adding.\")\n",
    "    print(\"\\nYour pizza finished!\")\n",
    "else:\n",
    "    print(\"Are you shure, that you want the pizza?\")\n"
   ]
  },
  {
   "cell_type": "code",
   "execution_count": null,
   "metadata": {},
   "outputs": [],
   "source": [
    "available_toppings = ['mushroom', 'pineapple', 'extra cheeze', 'pepperoni', 'green paper']\n",
    "requested_topings = ['mushroom', 'eagle', 'pepperoni']\n",
    "\n",
    "for requested_toping in requested_topings:\n",
    "    if requested_toping in available_toppings: \n",
    "        print('Your choose toping - ' + requested_toping + \", added.\")\n",
    "    else:\n",
    "        print(\"Sorry, we don't have - \" + requested_toping + \" in our toppings, now.\")\n",
    "print(\"\\nYour pizza is finished!\")"
   ]
  },
  {
   "cell_type": "code",
   "execution_count": null,
   "metadata": {},
   "outputs": [],
   "source": [
    "users = ['admin', 'evgen', 'alex', 'dmirty']\n",
    "if users:\n",
    "    for user in users:\n",
    "        if user == 'admin':\n",
    "            print(\"Hello, admin, would you like see the report?\")\n",
    "        else: \n",
    "            print(\"Hello, \" + user.title())\n",
    "else:\n",
    "    print(\"We need to find some users!\")"
   ]
  },
  {
   "cell_type": "code",
   "execution_count": null,
   "metadata": {},
   "outputs": [],
   "source": [
    "current_users = ['admin', 'evgen', 'alex', 'dmirty']\n",
    "new_users = ['edmin', 'pevgen', 'alex', 'Dmirty', 'misha']\n",
    "\n",
    "if new_users:\n",
    "    for new_user in new_users:\n",
    "        if new_user.lower() in current_users:\n",
    "            print(\"This name is used, choose another name.\")\n",
    "        else:\n",
    "            print(\"This name is available \" + str.title(new_user) + \", welcome\")\n",
    "        "
   ]
  },
  {
   "cell_type": "code",
   "execution_count": null,
   "metadata": {},
   "outputs": [],
   "source": [
    "numbers = list(range(1,10))\n",
    "for number in numbers:\n",
    "    if number == 1:\n",
    "        print(str(number) + \"st\")\n",
    "    elif number == 2:\n",
    "        print(str(number) + \"nd\")\n",
    "    elif number == 3:\n",
    "        print(str(number) + \"rd\")\n",
    "    else:\n",
    "        print(str(number) + \"th\")"
   ]
  }
 ],
 "metadata": {
  "kernelspec": {
   "display_name": "Python 3",
   "language": "python",
   "name": "python3"
  },
  "language_info": {
   "codemirror_mode": {
    "name": "ipython",
    "version": 3
   },
   "file_extension": ".py",
   "mimetype": "text/x-python",
   "name": "python",
   "nbconvert_exporter": "python",
   "pygments_lexer": "ipython3",
   "version": "3.12.0"
  }
 },
 "nbformat": 4,
 "nbformat_minor": 2
}

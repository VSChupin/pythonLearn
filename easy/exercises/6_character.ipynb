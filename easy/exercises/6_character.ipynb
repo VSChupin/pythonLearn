{
 "cells": [
  {
   "cell_type": "code",
   "execution_count": null,
   "metadata": {},
   "outputs": [],
   "source": [
    "alien_0 = {'color': 'geen', 'point': 5 }\n",
    "print(alien_0['color'])\n",
    "print(alien_0['point'])\n",
    "\n",
    "new_proints = alien_0['point']\n",
    "print(\"You just earned \" + str(new_proints) + \" points\")\n"
   ]
  },
  {
   "cell_type": "code",
   "execution_count": null,
   "metadata": {},
   "outputs": [],
   "source": [
    "alien_0 = {'color': 'green', 'point': 5}\n",
    "print(alien_0)\n",
    "\n",
    "alien_0['x_position'] = 0\n",
    "alien_0['y_position'] = 25\n",
    "print(alien_0)"
   ]
  },
  {
   "cell_type": "code",
   "execution_count": null,
   "metadata": {},
   "outputs": [],
   "source": [
    "alien_0 = {'x_position': 0, 'y_position': 25, 'speed': 'fast'}\n",
    "print('Original x-position: ' + str(alien_0['x_position']))\n",
    "\n",
    "# Пришелец перемещается вправо\n",
    "# Вычисляем величину перемещения на основании текущей скорости \n",
    "\n",
    "if alien_0['speed'] == 'slow':\n",
    "    x_increment = 1\n",
    "elif alien_0['speed'] == 'medium':\n",
    "    x_increment = 2\n",
    "else:\n",
    "    # Пришелец двигается быстро \n",
    "    x_increment = 3\n",
    "# Новая позиция равна сумме старой позиции и приращения \n",
    "\n",
    "alien_0['x_position'] = alien_0['x_position'] + x_increment\n",
    "print(\"New x-position: \" + str(alien_0['x_position']))"
   ]
  },
  {
   "cell_type": "code",
   "execution_count": null,
   "metadata": {},
   "outputs": [],
   "source": [
    "alien_0 = {'color': 'green', 'points': 5}\n",
    "del alien_0['points']\n",
    "print(alien_0)"
   ]
  },
  {
   "cell_type": "code",
   "execution_count": null,
   "metadata": {},
   "outputs": [],
   "source": [
    "me = {'old': 29, \n",
    "    'weight': 70,\n",
    "    'heigh': 167,\n",
    "    'first_name': 'vova',\n",
    "    'second_name': 'chupin',\n",
    "    }\n",
    "print(me)\n"
   ]
  },
  {
   "cell_type": "code",
   "execution_count": null,
   "metadata": {},
   "outputs": [],
   "source": [
    "favorite_numbers = {\n",
    "    'john': 1,\n",
    "    'ivan': 2,\n",
    "    'keks': 3,\n",
    "    'level': 4,\n",
    "    'krut': 5,\n",
    "    }\n",
    "print(\"John's favorite number is \" + str(favorite_numbers['john']))\n",
    "print(\"Ivan's favorite number is \" + str(favorite_numbers['ivan']))\n",
    "print(\"Keks's favorite number is \" + str(favorite_numbers['keks']))\n",
    "print(\"Level's favorite number is \" + str(favorite_numbers['level']))\n",
    "print(\"Krut's favorite number is \" + str(favorite_numbers['krut']))"
   ]
  },
  {
   "cell_type": "code",
   "execution_count": null,
   "metadata": {},
   "outputs": [],
   "source": [
    "user_0 = {\n",
    "    'username': 'vs_chupin',\n",
    "    'first': 'vladimir',\n",
    "    'last': 'chupin',\n",
    "    }\n"
   ]
  },
  {
   "cell_type": "code",
   "execution_count": null,
   "metadata": {},
   "outputs": [],
   "source": [
    "favorite_language = {\n",
    "    'jen': 'python',\n",
    "    'sarah': 'c++',\n",
    "    'john': 'js',\n",
    "    'pavel': 'python',\n",
    "    }\n",
    "# print(\"Sarah's favorite language is \" + \n",
    "#     favorite_language['sarah'].title() + \n",
    "#     \".\")\n",
    "\n",
    "# for name, language in favorite_language.items():\n",
    "#     print(name.title() + \"'s favorite language is \" +\n",
    "#         language.title() + ',')\n",
    "\n",
    "# for name in favorite_language.keys():\n",
    "#     print(name.title())\n",
    "# print(\"\\n\")    \n",
    "# for language in favorite_language.values():\n",
    "#     print(language.title())\n",
    "\n",
    "friends = ['jen', 'pavel']\n",
    "for name in favorite_language.keys():\n",
    "    print(\"\\n\" + name.title())\n",
    "    \n",
    "    if name in friends: \n",
    "        print(\" Hi \" + name.title() + \n",
    "            \", I see your favorite lang is \" +\n",
    "            favorite_language[name].title() + \"!\")   \n",
    "\n",
    "if 'dmitry' not in favorite_language.keys():\n",
    "    print(\"\\nDmitry, please take our poll!\\n\")\n",
    "\n",
    "for name in sorted(favorite_language.keys()):\n",
    "    print(name.title() + \", thank you for taking poll.\")\n",
    "    \n",
    "print(\"\\nThe following language have been mentioned:\")\n",
    "for language in favorite_language.values():\n",
    "    print(language.title())\n",
    "\n",
    "print(\"\\nThe following language have been mentioned:\")\n",
    "for language in set(favorite_language.values()):\n",
    "    print(language.title())"
   ]
  },
  {
   "cell_type": "code",
   "execution_count": 70,
   "metadata": {},
   "outputs": [
    {
     "name": "stdout",
     "output_type": "stream",
     "text": [
      "Список:\n",
      "- набор элементов, следующих в определенном порядке.\n",
      "Кортеж:\n",
      "- На языке Python значения, которые не могут изменяться, называются неизменяемыми 'immutable', а неизменяемый список называется кортежем.\n",
      "Команды If:\n",
      "- Простейшая форма команды if состоит из одного условия и одного действия.\n",
      "Pep 8:\n",
      "- (Python Enhancement Proposal) - Руководство по стилю Python.\n",
      "Словарь:\n",
      "- структурах данных, предназначенных для объединения взаимосвязанной информации.\n"
     ]
    }
   ],
   "source": [
    "\n",
    "glossary = {\n",
    "    'Список': 'набор элементов, следующих в определенном порядке.',\n",
    "    'Кортеж': \"На языке Python значения, которые не могут изменяться, называются неизменяемыми 'immutable', а неизменяемый список называется кортежем.\",\n",
    "    'Команды if': 'Простейшая форма команды if состоит из одного условия и одного действия.',\n",
    "    'PEP 8': '(Python Enhancement Proposal) - Руководство по стилю Python.',\n",
    "    'Словарь': 'структурах данных, предназначенных для объединения взаимосвязанной информации.',\n",
    "    }\n",
    "# print(\"Список, это: \" +\n",
    "#     \"\\n- \" +\n",
    "#     (glossary['Список']))\n",
    "\n",
    "# print(\"\\n\")\n",
    "\n",
    "# print(\"Кортеж, это: \" +\n",
    "#     \"\\n- \" +\n",
    "#     (glossary['Кортеж']))\n",
    "\n",
    "# print(\"\\n\")\n",
    "\n",
    "# print(\"Команды if, это: \" +\n",
    "#     \"\\n- \" +\n",
    "#     (glossary['Команды if']))\n",
    "\n",
    "# print(\"\\n\")\n",
    "\n",
    "# print(\"PEP 8, это: \" +\n",
    "#     \"\\n- \" +\n",
    "#     (glossary['PEP 8']))\n",
    "\n",
    "# print(\"\\n\")\n",
    "\n",
    "# print(\"Словарь, это: \" +\n",
    "#     \"\\n- \" +\n",
    "#     (glossary['Словарь']))\n",
    "\n",
    "# Оптимизированный вариант \n",
    "for name, value in glossary.items():\n",
    "    print(name.title() + \":\\n\" + \"- \" + value)"
   ]
  }
 ],
 "metadata": {
  "kernelspec": {
   "display_name": "Python 3",
   "language": "python",
   "name": "python3"
  },
  "language_info": {
   "codemirror_mode": {
    "name": "ipython",
    "version": 3
   },
   "file_extension": ".py",
   "mimetype": "text/x-python",
   "name": "python",
   "nbconvert_exporter": "python",
   "pygments_lexer": "ipython3",
   "version": "3.12.0"
  }
 },
 "nbformat": 4,
 "nbformat_minor": 2
}

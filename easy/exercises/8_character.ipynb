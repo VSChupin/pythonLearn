{
 "cells": [
  {
   "cell_type": "code",
   "execution_count": null,
   "metadata": {},
   "outputs": [],
   "source": [
    "def greet_user():\n",
    "    \"\"\"Простое приветствие.\"\"\"\n",
    "    print('Hello!')\n",
    "\n",
    "greet_user()"
   ]
  },
  {
   "cell_type": "code",
   "execution_count": null,
   "metadata": {},
   "outputs": [],
   "source": [
    "def greet_user(username):\n",
    "    \"\"\"Простое приветствие.\"\"\"\n",
    "    print(f\"Hello {username} !\")\n",
    "    \n",
    "greet_user('Jesse')"
   ]
  },
  {
   "cell_type": "code",
   "execution_count": null,
   "metadata": {},
   "outputs": [],
   "source": [
    "def display_msg(message):\n",
    "    print(message)\n",
    "\n",
    "message = 'Изучение функций рассматривается в этой главе'\n",
    "\n",
    "display_msg(message)\n",
    "\n",
    "\n"
   ]
  },
  {
   "cell_type": "code",
   "execution_count": null,
   "metadata": {},
   "outputs": [],
   "source": [
    "def favorite_book(title):\n",
    "    print(f\"One of my favorite books is {title}.\")\n",
    "\n",
    "favorite_book('War and Pease')"
   ]
  },
  {
   "cell_type": "code",
   "execution_count": null,
   "metadata": {},
   "outputs": [],
   "source": [
    "def describe_pet(animal_type, pet_name):\n",
    "    \"\"\"Выводит информацию о животном\"\"\"\n",
    "    print(f\"I have {animal_type}.\")\n",
    "    print(f\"My {animal_type} name is {pet_name.title()}.\")\n",
    "\n",
    "describe_pet('hamster', 'harry')"
   ]
  },
  {
   "cell_type": "code",
   "execution_count": null,
   "metadata": {},
   "outputs": [],
   "source": [
    "def describe_pet(animal_type, pet_name):\n",
    "    \"\"\"Выводит информацию о животном\"\"\"\n",
    "    print(f\"I have {animal_type}.\")\n",
    "    print(f\"My {animal_type} name is {pet_name.title()}.\")\n",
    "\n",
    "describe_pet(animal_type='humster', pet_name='harry')"
   ]
  },
  {
   "cell_type": "code",
   "execution_count": null,
   "metadata": {},
   "outputs": [],
   "source": [
    "def describe_pet(pet_name, animal_type='dog'):\n",
    "    \"\"\"Выводит название животного\"\"\"\n",
    "    print(f\"I have a {animal_type}.\")\n",
    "    print(f\"My {animal_type}'s name is {pet_name}.\")\n",
    "\n",
    "describe_pet(pet_name='Bob')"
   ]
  },
  {
   "cell_type": "code",
   "execution_count": null,
   "metadata": {},
   "outputs": [],
   "source": [
    "def make_shirt(text, size):\n",
    "    print(f\"The shirt {size} size, and text: {text}, done.\")\n",
    "\n",
    "make_shirt('Koko-Shanel', 54)\n",
    "\n",
    "make_shirt(text='KbK', size=56)"
   ]
  },
  {
   "cell_type": "code",
   "execution_count": null,
   "metadata": {},
   "outputs": [],
   "source": [
    "def make_shirt(text='I love Python', size='L'):\n",
    "    print(f\"The shirt {size} size, and text: '{text}', done.\")\n",
    "    \n",
    "make_shirt()\n",
    "\n",
    "make_shirt(size='S',text='Prada')"
   ]
  },
  {
   "cell_type": "code",
   "execution_count": null,
   "metadata": {},
   "outputs": [],
   "source": [
    "def describe_city(city,country='russia'):\n",
    "    print(f\"The {city.title()} is in {country.title()}.\")\n",
    "\n",
    "describe_city('moscow')"
   ]
  },
  {
   "cell_type": "code",
   "execution_count": null,
   "metadata": {},
   "outputs": [],
   "source": [
    "def get_formatted_name(first_name, last_name):\n",
    "    full_name = first_name + \" \" + last_name\n",
    "    return full_name.title()\n",
    "\n",
    "musician = get_formatted_name('vova', 'chupin')\n",
    "print(musician)"
   ]
  },
  {
   "cell_type": "code",
   "execution_count": null,
   "metadata": {},
   "outputs": [],
   "source": [
    "def get_formatted_name(first_name, last_name, middle_name=''):\n",
    "    if middle_name:\n",
    "        full_name = first_name + ' ' + middle_name + ' ' + last_name\n",
    "    else:\n",
    "        full_name = first_name + ' ' + last_name\n",
    "    return full_name.title()\n",
    "\n",
    "musician = get_formatted_name('ivan', 'pervii')\n",
    "print(musician)"
   ]
  },
  {
   "cell_type": "code",
   "execution_count": null,
   "metadata": {},
   "outputs": [],
   "source": [
    "def make_album(artist_name, album_name, tracks=''):\n",
    "    dictionary = {\n",
    "        'artist': artist_name,\n",
    "        'album': album_name,\n",
    "        'tracks': tracks,\n",
    "        }\n",
    "    return dictionary\n",
    "\n",
    "dictionary = make_album('vova','deep level')\n",
    "print(dictionary)\n",
    "\n",
    "dictionary2 = make_album('pavel','popstar')\n",
    "print(dictionary2)\n",
    "\n",
    "dictionary3 = make_album('kenny', '2024 stars', 10)\n",
    "print(dictionary3)"
   ]
  },
  {
   "cell_type": "code",
   "execution_count": null,
   "metadata": {},
   "outputs": [],
   "source": [
    "def make_album(artist_name, album_name, tracks=''):\n",
    "    dictionary = {\n",
    "        'artist': artist_name,\n",
    "        'album': album_name,\n",
    "        'tracks': tracks,\n",
    "        }\n",
    "    return dictionary\n",
    "\n",
    "while True:\n",
    "    artist = input('Введите исполнителя')\n",
    "    if artist == 'q':\n",
    "        break\n",
    "    else:\n",
    "        album = input('Укажите название альбома')\n",
    "        tracks = input('Укажите количество треков в альбоме')\n",
    "        dictionary = make_album(artist, album, tracks)\n",
    "        print(dictionary)"
   ]
  },
  {
   "cell_type": "code",
   "execution_count": null,
   "metadata": {},
   "outputs": [],
   "source": [
    "def greet_users(names):\n",
    "    for name in names:\n",
    "        msg = f\"Hello, {name.title()}!\"\n",
    "        print(msg)\n",
    "    \n",
    "names = ['vova', 'ivan']\n",
    "greet_users(names)"
   ]
  },
  {
   "cell_type": "code",
   "execution_count": null,
   "metadata": {},
   "outputs": [],
   "source": [
    "def print_models(printing_models, complete_models):\n",
    "    while printing_models:\n",
    "        current_model = printing_models.pop()\n",
    "        print(f\"Printing model: {current_model}\")\n",
    "        complete_models.append(current_model)\n",
    "\n",
    "def show_complete_models(complete_models):\n",
    "    print(\"\\nThe following models have been printed:\")\n",
    "    for compelte_model in complete_models:\n",
    "        print(compelte_model)\n",
    "    \n",
    "printing_models = ['first', 'second']\n",
    "complete_models = []\n",
    "\n",
    "print_models(printing_models, complete_models)\n",
    "show_complete_models(complete_models)"
   ]
  },
  {
   "cell_type": "code",
   "execution_count": null,
   "metadata": {},
   "outputs": [],
   "source": [
    "def show_magicians(magicians):\n",
    "    print(\"Let's welcome the following magicians: \")\n",
    "    for magician in magicians:\n",
    "        print(magician)\n",
    "        \n",
    "magicians = ['dist', 'uno', 'jojo']\n",
    "show_magicians(magicians)"
   ]
  },
  {
   "cell_type": "code",
   "execution_count": null,
   "metadata": {},
   "outputs": [],
   "source": [
    "def show_magicians(magicians):\n",
    "    print(\"Let's welcome the following magicians: \")\n",
    "    for magician in magicians:\n",
    "        print(magician)\n",
    "    \n",
    "def make_great(magicians, great_magicians):\n",
    "    while magicians:\n",
    "        current_magician = magicians.pop()\n",
    "        great_magician = f'great_{current_magician}'\n",
    "        great_magicians.append(great_magician)\n",
    "    print(f\"The great magicians:\")\n",
    "    for great_magic in great_magicians:\n",
    "        print(great_magic)\n",
    "\n",
    "magicians = ['firts', 'second', 'third']\n",
    "great_magicians = []\n",
    "\n",
    "show_magicians(magicians)\n",
    "make_great(magicians[:], great_magicians)\n",
    "\n",
    "show_magicians(magicians)\n",
    "show_magicians(great_magicians)\n",
    "            "
   ]
  },
  {
   "cell_type": "code",
   "execution_count": 13,
   "metadata": {},
   "outputs": [
    {
     "name": "stdout",
     "output_type": "stream",
     "text": [
      "Making a pizza with the following toppings: \n",
      "- fruit\n",
      "Making a pizza with the following toppings: \n",
      "- vegan\n",
      "- popo\n",
      "- kokos\n",
      "- multi\n"
     ]
    }
   ],
   "source": [
    "def make_pizza(*toppings):\n",
    "    print(\"Making a pizza with the following toppings: \")\n",
    "    for topping in toppings:\n",
    "        print(f\"- {topping}\")\n",
    "    \n",
    "make_pizza('fruit')\n",
    "\n",
    "make_pizza('vegan', 'popo', 'kokos', 'multi')\n"
   ]
  }
 ],
 "metadata": {
  "kernelspec": {
   "display_name": "Python 3",
   "language": "python",
   "name": "python3"
  },
  "language_info": {
   "codemirror_mode": {
    "name": "ipython",
    "version": 3
   },
   "file_extension": ".py",
   "mimetype": "text/x-python",
   "name": "python",
   "nbconvert_exporter": "python",
   "pygments_lexer": "ipython3",
   "version": "3.12.1"
  }
 },
 "nbformat": 4,
 "nbformat_minor": 2
}

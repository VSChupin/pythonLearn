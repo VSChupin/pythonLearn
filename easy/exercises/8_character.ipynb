{
 "cells": [
  {
   "cell_type": "code",
   "execution_count": null,
   "metadata": {},
   "outputs": [],
   "source": [
    "def greet_user():\n",
    "    \"\"\"Простое приветствие.\"\"\"\n",
    "    print('Hello!')\n",
    "\n",
    "greet_user()"
   ]
  },
  {
   "cell_type": "code",
   "execution_count": null,
   "metadata": {},
   "outputs": [],
   "source": [
    "def greet_user(username):\n",
    "    \"\"\"Простое приветствие.\"\"\"\n",
    "    print(f\"Hello {username} !\")\n",
    "    \n",
    "greet_user('Jesse')"
   ]
  },
  {
   "cell_type": "code",
   "execution_count": null,
   "metadata": {},
   "outputs": [],
   "source": [
    "def display_msg(message):\n",
    "    print(message)\n",
    "\n",
    "message = 'Изучение функций рассматривается в этой главе'\n",
    "\n",
    "display_msg(message)\n",
    "\n",
    "\n"
   ]
  },
  {
   "cell_type": "code",
   "execution_count": null,
   "metadata": {},
   "outputs": [],
   "source": [
    "def favorite_book(title):\n",
    "    print(f\"One of my favorite books is {title}.\")\n",
    "\n",
    "favorite_book('War and Pease')"
   ]
  },
  {
   "cell_type": "code",
   "execution_count": null,
   "metadata": {},
   "outputs": [],
   "source": [
    "def describe_pet(animal_type, pet_name):\n",
    "    \"\"\"Выводит информацию о животном\"\"\"\n",
    "    print(f\"I have {animal_type}.\")\n",
    "    print(f\"My {animal_type} name is {pet_name.title()}.\")\n",
    "\n",
    "describe_pet('hamster', 'harry')"
   ]
  },
  {
   "cell_type": "code",
   "execution_count": null,
   "metadata": {},
   "outputs": [],
   "source": [
    "def describe_pet(animal_type, pet_name):\n",
    "    \"\"\"Выводит информацию о животном\"\"\"\n",
    "    print(f\"I have {animal_type}.\")\n",
    "    print(f\"My {animal_type} name is {pet_name.title()}.\")\n",
    "\n",
    "describe_pet(animal_type='humster', pet_name='harry')"
   ]
  },
  {
   "cell_type": "code",
   "execution_count": null,
   "metadata": {},
   "outputs": [],
   "source": [
    "def describe_pet(pet_name, animal_type='dog'):\n",
    "    \"\"\"Выводит название животного\"\"\"\n",
    "    print(f\"I have a {animal_type}.\")\n",
    "    print(f\"My {animal_type}'s name is {pet_name}.\")\n",
    "\n",
    "describe_pet(pet_name='Bob')"
   ]
  },
  {
   "cell_type": "code",
   "execution_count": null,
   "metadata": {},
   "outputs": [],
   "source": [
    "def make_shirt(text, size):\n",
    "    print(f\"The shirt {size} size, and text: {text}, done.\")\n",
    "\n",
    "make_shirt('Koko-Shanel', 54)\n",
    "\n",
    "make_shirt(text='KbK', size=56)"
   ]
  },
  {
   "cell_type": "code",
   "execution_count": null,
   "metadata": {},
   "outputs": [],
   "source": [
    "def make_shirt(text='I love Python', size='L'):\n",
    "    print(f\"The shirt {size} size, and text: '{text}', done.\")\n",
    "    \n",
    "make_shirt()\n",
    "\n",
    "make_shirt(size='S',text='Prada')"
   ]
  },
  {
   "cell_type": "code",
   "execution_count": null,
   "metadata": {},
   "outputs": [],
   "source": [
    "def describe_city(city,country='russia'):\n",
    "    print(f\"The {city.title()} is in {country.title()}.\")\n",
    "\n",
    "describe_city('moscow')"
   ]
  },
  {
   "cell_type": "code",
   "execution_count": null,
   "metadata": {},
   "outputs": [],
   "source": [
    "def get_formatted_name(first_name, last_name):\n",
    "    full_name = first_name + \" \" + last_name\n",
    "    return full_name.title()\n",
    "\n",
    "musician = get_formatted_name('vova', 'chupin')\n",
    "print(musician)"
   ]
  },
  {
   "cell_type": "code",
   "execution_count": null,
   "metadata": {},
   "outputs": [],
   "source": [
    "def get_formatted_name(first_name, last_name, middle_name=''):\n",
    "    if middle_name:\n",
    "        full_name = first_name + ' ' + middle_name + ' ' + last_name\n",
    "    else:\n",
    "        full_name = first_name + ' ' + last_name\n",
    "    return full_name.title()\n",
    "\n",
    "musician = get_formatted_name('ivan', 'pervii')\n",
    "print(musician)"
   ]
  },
  {
   "cell_type": "code",
   "execution_count": null,
   "metadata": {},
   "outputs": [],
   "source": [
    "def make_album(artist_name, album_name, tracks=''):\n",
    "    dictionary = {\n",
    "        'artist': artist_name,\n",
    "        'album': album_name,\n",
    "        'tracks': tracks,\n",
    "        }\n",
    "    return dictionary\n",
    "\n",
    "dictionary = make_album('vova','deep level')\n",
    "print(dictionary)\n",
    "\n",
    "dictionary2 = make_album('pavel','popstar')\n",
    "print(dictionary2)\n",
    "\n",
    "dictionary3 = make_album('kenny', '2024 stars', 10)\n",
    "print(dictionary3)"
   ]
  },
  {
   "cell_type": "code",
   "execution_count": null,
   "metadata": {},
   "outputs": [],
   "source": [
    "def make_album(artist_name, album_name, tracks=''):\n",
    "    dictionary = {\n",
    "        'artist': artist_name,\n",
    "        'album': album_name,\n",
    "        'tracks': tracks,\n",
    "        }\n",
    "    return dictionary\n",
    "\n",
    "while True:\n",
    "    artist = input('Введите исполнителя')\n",
    "    if artist == 'q':\n",
    "        break\n",
    "    else:\n",
    "        album = input('Укажите название альбома')\n",
    "        tracks = input('Укажите количество треков в альбоме')\n",
    "        dictionary = make_album(artist, album, tracks)\n",
    "        print(dictionary)"
   ]
  },
  {
   "cell_type": "code",
   "execution_count": null,
   "metadata": {},
   "outputs": [],
   "source": [
    "def greet_users(names):\n",
    "    for name in names:\n",
    "        msg = f\"Hello, {name.title()}!\"\n",
    "        print(msg)\n",
    "    \n",
    "names = ['vova', 'ivan']\n",
    "greet_users(names)"
   ]
  },
  {
   "cell_type": "code",
   "execution_count": null,
   "metadata": {},
   "outputs": [],
   "source": [
    "def print_models(printing_models, complete_models):\n",
    "    while printing_models:\n",
    "        current_model = printing_models.pop()\n",
    "        print(f\"Printing model: {current_model}\")\n",
    "        complete_models.append(current_model)\n",
    "\n",
    "def show_complete_models(complete_models):\n",
    "    print(\"\\nThe following models have been printed:\")\n",
    "    for compelte_model in complete_models:\n",
    "        print(compelte_model)\n",
    "    \n",
    "printing_models = ['first', 'second']\n",
    "complete_models = []\n",
    "\n",
    "print_models(printing_models, complete_models)\n",
    "show_complete_models(complete_models)"
   ]
  },
  {
   "cell_type": "code",
   "execution_count": null,
   "metadata": {},
   "outputs": [],
   "source": [
    "def show_magicians(magicians):\n",
    "    print(\"Let's welcome the following magicians: \")\n",
    "    for magician in magicians:\n",
    "        print(magician)\n",
    "        \n",
    "magicians = ['dist', 'uno', 'jojo']\n",
    "show_magicians(magicians)"
   ]
  },
  {
   "cell_type": "code",
   "execution_count": null,
   "metadata": {},
   "outputs": [],
   "source": [
    "def show_magicians(magicians):\n",
    "    print(\"Let's welcome the following magicians: \")\n",
    "    for magician in magicians:\n",
    "        print(magician)\n",
    "    \n",
    "def make_great(magicians, great_magicians):\n",
    "    while magicians:\n",
    "        current_magician = magicians.pop()\n",
    "        great_magician = f'great_{current_magician}'\n",
    "        great_magicians.append(great_magician)\n",
    "    print(f\"The great magicians:\")\n",
    "    for great_magic in great_magicians:\n",
    "        print(great_magic)\n",
    "\n",
    "magicians = ['firts', 'second', 'third']\n",
    "great_magicians = []\n",
    "\n",
    "show_magicians(magicians)\n",
    "make_great(magicians[:], great_magicians)\n",
    "\n",
    "show_magicians(magicians)\n",
    "show_magicians(great_magicians)\n",
    "            "
   ]
  },
  {
   "cell_type": "code",
   "execution_count": null,
   "metadata": {},
   "outputs": [],
   "source": [
    "def make_pizza(*toppings):\n",
    "    print(\"Making a pizza with the following toppings: \")\n",
    "    for topping in toppings:\n",
    "        print(f\"- {topping}\")\n",
    "    \n",
    "make_pizza('fruit')\n",
    "\n",
    "make_pizza('vegan', 'popo', 'kokos', 'multi')\n"
   ]
  },
  {
   "cell_type": "code",
   "execution_count": null,
   "metadata": {},
   "outputs": [],
   "source": [
    "def build_person(first_name, last_name, age=''):\n",
    "    person = {'first': first_name, 'last': last_name}\n",
    "    if age:\n",
    "        person['age'] = age\n",
    "    return person\n",
    "\n",
    "musician = build_person('jimi', 'hendricks', age=27)\n",
    "print(musician)"
   ]
  },
  {
   "cell_type": "code",
   "execution_count": null,
   "metadata": {},
   "outputs": [],
   "source": [
    "def get_formatted_name(first_name, last_name):\n",
    "    full_name = first_name + ' ' + last_name\n",
    "    return full_name.title()\n",
    "\n",
    "while True:\n",
    "    print('Input your first and last names:')\n",
    "    first_name = input('Please, input your f_name or \"q\" for the end: ')\n",
    "    if first_name == 'q':\n",
    "        break\n",
    "    last_name = input('Please, input your l_name or \"q\" for the end:')\n",
    "    if last_name == 'q':\n",
    "        break\n",
    "\n",
    "    full_name = get_formatted_name(first_name, last_name)\n",
    "    print(f'Hello {full_name}')"
   ]
  },
  {
   "cell_type": "code",
   "execution_count": 7,
   "metadata": {},
   "outputs": [
    {
     "name": "stdout",
     "output_type": "stream",
     "text": [
      "Moscow, Russia\n",
      "Minsk, Belarus\n",
      "Paris, France\n"
     ]
    }
   ],
   "source": [
    "def city_country(city, country):\n",
    "        formatted = f\"{city.title()}, {country.title()}\"\n",
    "        return(formatted)\n",
    "        \n",
    "\n",
    "first_cc = city_country('moscow', 'russia')\n",
    "print(first_cc)\n",
    "\n",
    "second_cc = city_country('minsk', 'belarus')\n",
    "print(second_cc)\n",
    "\n",
    "third_cc = city_country(city='paris',country='France')\n",
    "print(third_cc)"
   ]
  },
  {
   "cell_type": "code",
   "execution_count": 26,
   "metadata": {},
   "outputs": [
    {
     "name": "stdout",
     "output_type": "stream",
     "text": [
      "Enter author, album name and value of tracks or \"q\" to end\n"
     ]
    }
   ],
   "source": [
    "def make_album(author, album_name, tracks=''):\n",
    "    dictionary = {}\n",
    "    album_data = {}\n",
    "    album_data['album_name'] = album_name\n",
    "    if tracks:\n",
    "        album_data['tracks'] = tracks\n",
    "    \n",
    "    dictionary[author] = album_data\n",
    "    return dictionary\n",
    "\n",
    "# first_album = make_album('vova', 'great_album', 15)\n",
    "# print(first_album)\n",
    "\n",
    "# second_album = make_album('ivan', 'silver_album')\n",
    "# print(second_album)\n",
    "\n",
    "# third_album = make_album('pavel', 'green_album')\n",
    "# print(third_album)\n",
    "\n",
    "while True:\n",
    "    print('Enter author, album name and value of tracks or \"q\" to end')\n",
    "    author = input('Enter author:')\n",
    "    if author == 'q':\n",
    "        break\n",
    "    album_name = input('Enter the album name:')\n",
    "    if album_name == 'q':\n",
    "        break\n",
    "    tracks = input('Enter value of tracks:')\n",
    "    if tracks == 'q':\n",
    "        break\n",
    "    \n",
    "    album  = make_album(author, album_name, tracks)\n",
    "    print(album)"
   ]
  },
  {
   "cell_type": "code",
   "execution_count": 28,
   "metadata": {},
   "outputs": [
    {
     "name": "stdout",
     "output_type": "stream",
     "text": [
      "The sandwich maked with:\n",
      "cheeze\n",
      "bread\n",
      "peepe\n"
     ]
    }
   ],
   "source": [
    "def make_sandwich(*toppings):\n",
    "    print('The sandwich maked with:')\n",
    "    for topping in toppings:\n",
    "        print(topping)\n",
    "        \n",
    "make_sandwich('cheeze','bread','peepe')"
   ]
  },
  {
   "cell_type": "code",
   "execution_count": null,
   "metadata": {},
   "outputs": [],
   "source": []
  }
 ],
 "metadata": {
  "kernelspec": {
   "display_name": "Python 3",
   "language": "python",
   "name": "python3"
  },
  "language_info": {
   "codemirror_mode": {
    "name": "ipython",
    "version": 3
   },
   "file_extension": ".py",
   "mimetype": "text/x-python",
   "name": "python",
   "nbconvert_exporter": "python",
   "pygments_lexer": "ipython3",
   "version": "3.12.1"
  }
 },
 "nbformat": 4,
 "nbformat_minor": 2
}

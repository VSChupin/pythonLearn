{
 "cells": [
  {
   "cell_type": "code",
   "execution_count": null,
   "metadata": {},
   "outputs": [],
   "source": [
    "def greet_user():\n",
    "    \"\"\"Простое приветствие.\"\"\"\n",
    "    print('Hello!')\n",
    "\n",
    "greet_user()"
   ]
  },
  {
   "cell_type": "code",
   "execution_count": null,
   "metadata": {},
   "outputs": [],
   "source": [
    "def greet_user(username):\n",
    "    \"\"\"Простое приветствие.\"\"\"\n",
    "    print(f\"Hello {username} !\")\n",
    "    \n",
    "greet_user('Jesse')"
   ]
  },
  {
   "cell_type": "code",
   "execution_count": null,
   "metadata": {},
   "outputs": [],
   "source": [
    "def display_msg(message):\n",
    "    print(message)\n",
    "\n",
    "message = 'Изучение функций рассматривается в этой главе'\n",
    "\n",
    "display_msg(message)\n",
    "\n",
    "\n"
   ]
  },
  {
   "cell_type": "code",
   "execution_count": null,
   "metadata": {},
   "outputs": [],
   "source": [
    "def favorite_book(title):\n",
    "    print(f\"One of my favorite books is {title}.\")\n",
    "\n",
    "favorite_book('War and Pease')"
   ]
  },
  {
   "cell_type": "code",
   "execution_count": 18,
   "metadata": {},
   "outputs": [
    {
     "name": "stdout",
     "output_type": "stream",
     "text": [
      "I have hamster.\n",
      "My hamster name is Harry.\n"
     ]
    }
   ],
   "source": [
    "def describe_pet(animal_type, pet_name):\n",
    "    \"\"\"Выводит информацию о животном\"\"\"\n",
    "    print(f\"I have {animal_type}.\")\n",
    "    print(f\"My {animal_type} name is {pet_name.title()}.\")\n",
    "\n",
    "describe_pet('hamster', 'harry')"
   ]
  },
  {
   "cell_type": "code",
   "execution_count": 20,
   "metadata": {},
   "outputs": [
    {
     "name": "stdout",
     "output_type": "stream",
     "text": [
      "I have humster.\n",
      "My humster name is Harry.\n"
     ]
    }
   ],
   "source": [
    "def describe_pet(animal_type, pet_name):\n",
    "    \"\"\"Выводит информацию о животном\"\"\"\n",
    "    print(f\"I have {animal_type}.\")\n",
    "    print(f\"My {animal_type} name is {pet_name.title()}.\")\n",
    "\n",
    "describe_pet(animal_type='humster', pet_name='harry')"
   ]
  },
  {
   "cell_type": "code",
   "execution_count": 1,
   "metadata": {},
   "outputs": [
    {
     "name": "stdout",
     "output_type": "stream",
     "text": [
      "I have a dog.\n",
      "My dog's name is Bob.\n"
     ]
    }
   ],
   "source": [
    "def describe_pet(pet_name, animal_type='dog'):\n",
    "    \"\"\"Выводит название животного\"\"\"\n",
    "    print(f\"I have a {animal_type}.\")\n",
    "    print(f\"My {animal_type}'s name is {pet_name}.\")\n",
    "\n",
    "describe_pet(pet_name='Bob')"
   ]
  },
  {
   "cell_type": "code",
   "execution_count": 7,
   "metadata": {},
   "outputs": [
    {
     "name": "stdout",
     "output_type": "stream",
     "text": [
      "The shirt 54 size, and text: Koko-Shanel, done.\n",
      "The shirt 56 size, and text: KbK, done.\n"
     ]
    }
   ],
   "source": [
    "def make_shirt(text, size):\n",
    "    print(f\"The shirt {size} size, and text: {text}, done.\")\n",
    "\n",
    "make_shirt('Koko-Shanel', 54)\n",
    "\n",
    "make_shirt(text='KbK', size=56)"
   ]
  },
  {
   "cell_type": "code",
   "execution_count": 12,
   "metadata": {},
   "outputs": [
    {
     "name": "stdout",
     "output_type": "stream",
     "text": [
      "The shirt L size, and text: 'I love Python', done.\n",
      "The shirt S size, and text: 'Prada', done.\n"
     ]
    }
   ],
   "source": [
    "def make_shirt(text='I love Python', size='L'):\n",
    "    print(f\"The shirt {size} size, and text: '{text}', done.\")\n",
    "    \n",
    "make_shirt()\n",
    "\n",
    "make_shirt(size='S',text='Prada')"
   ]
  },
  {
   "cell_type": "code",
   "execution_count": 16,
   "metadata": {},
   "outputs": [
    {
     "name": "stdout",
     "output_type": "stream",
     "text": [
      "The Moscow is in Russia.\n"
     ]
    }
   ],
   "source": [
    "def describe_city(city,country='russia'):\n",
    "    print(f\"The {city.title()} is in {country.title()}.\")\n",
    "\n",
    "describe_city('moscow')"
   ]
  },
  {
   "cell_type": "code",
   "execution_count": 19,
   "metadata": {},
   "outputs": [
    {
     "name": "stdout",
     "output_type": "stream",
     "text": [
      "Vova Chupin\n"
     ]
    }
   ],
   "source": [
    "def get_formatted_name(first_name, last_name):\n",
    "    full_name = first_name + \" \" + last_name\n",
    "    return full_name.title()\n",
    "\n",
    "musician = get_formatted_name('vova', 'chupin')\n",
    "print(musician)"
   ]
  },
  {
   "cell_type": "code",
   "execution_count": 23,
   "metadata": {},
   "outputs": [
    {
     "name": "stdout",
     "output_type": "stream",
     "text": [
      "Ivan Pervii\n"
     ]
    }
   ],
   "source": [
    "def get_formatted_name(first_name, last_name, middle_name=''):\n",
    "    if middle_name:\n",
    "        full_name = first_name + ' ' + middle_name + ' ' + last_name\n",
    "    else:\n",
    "        full_name = first_name + ' ' + last_name\n",
    "    return full_name.title()\n",
    "\n",
    "musician = get_formatted_name('ivan', 'pervii')\n",
    "print(musician)"
   ]
  },
  {
   "cell_type": "code",
   "execution_count": 26,
   "metadata": {},
   "outputs": [
    {
     "name": "stdout",
     "output_type": "stream",
     "text": [
      "{'artist': 'vova', 'album': 'deep level'}\n",
      "{'artist': 'pavel', 'album': 'popstar'}\n"
     ]
    }
   ],
   "source": [
    "def make_album(artist_name, album_name):\n",
    "    dictionary = {\n",
    "        'artist': artist_name,\n",
    "        'album': album_name,\n",
    "        }\n",
    "    return dictionary\n",
    "\n",
    "dictionary = make_album('vova','deep level')\n",
    "print(dictionary)\n",
    "\n",
    "dictionary2 = make_album('pavel','popstar')\n",
    "print(dictionary2)"
   ]
  }
 ],
 "metadata": {
  "kernelspec": {
   "display_name": "Python 3",
   "language": "python",
   "name": "python3"
  },
  "language_info": {
   "codemirror_mode": {
    "name": "ipython",
    "version": 3
   },
   "file_extension": ".py",
   "mimetype": "text/x-python",
   "name": "python",
   "nbconvert_exporter": "python",
   "pygments_lexer": "ipython3",
   "version": "3.12.1"
  }
 },
 "nbformat": 4,
 "nbformat_minor": 2
}

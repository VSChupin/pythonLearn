{
 "cells": [
  {
   "cell_type": "code",
   "execution_count": null,
   "metadata": {},
   "outputs": [],
   "source": [
    "bicycles = ['trek', 'cannondale', 'redline', 'specialized']\n",
    "print(bicycles[-1])\n",
    "            \n",
    "friends = ['Vova', 'Pasha', 'Vanya']\n",
    "print(friends[0])\n",
    "print(friends[1])\n",
    "print(friends[2])\n",
    "\n",
    "print(\"My best of friends is \" + friends[0])\n",
    "print(\"My best of friends is \" + friends[1])\n",
    "print(\"My best of friends is \" + friends[2])"
   ]
  },
  {
   "cell_type": "code",
   "execution_count": null,
   "metadata": {},
   "outputs": [],
   "source": [
    "motorcycles = ['honda', 'yamaha', 'suzuki']\n",
    "print(motorcycles)  \n",
    "\n",
    "motorcycles.append('ducati')\n",
    "motorcycles[0] = 'ducati'\n",
    "\n",
    "print(motorcycles)"
   ]
  },
  {
   "cell_type": "code",
   "execution_count": 18,
   "metadata": {},
   "outputs": [
    {
     "name": "stdout",
     "output_type": "stream",
     "text": [
      "['honda', 'yamaha', 'suzuki']\n",
      "The first motorcycle I owned was a Honda.\n",
      "['suzuki']\n",
      "honda\n"
     ]
    }
   ],
   "source": [
    "motorcycles = []\n",
    "\n",
    "motorcycles.append('honda')\n",
    "motorcycles.append('yamaha')\n",
    "motorcycles.append('suzuki')\n",
    "\n",
    "print(motorcycles)\n",
    "\n",
    "first_owned = motorcycles.pop(0)\n",
    "print ('The first motorcycle I owned was a ' + first_owned.title() + '.')\n",
    "\n",
    "# motorcycles.insert(0, 'ducati')\n",
    "# print(motorcycles)\n",
    "\n",
    "# del motorcycles[0]\n",
    "# print(motorcycles)\n",
    "\n",
    "# del motorcycles[2]\n",
    "# print(motorcycles)\n",
    "\n",
    "# motorcycles.remove('yamaha')\n",
    "# print(motorcycles)\n",
    "# print(first_owned)"
   ]
  }
 ],
 "metadata": {
  "kernelspec": {
   "display_name": "Python 3",
   "language": "python",
   "name": "python3"
  },
  "language_info": {
   "codemirror_mode": {
    "name": "ipython",
    "version": 3
   },
   "file_extension": ".py",
   "mimetype": "text/x-python",
   "name": "python",
   "nbconvert_exporter": "python",
   "pygments_lexer": "ipython3",
   "version": "3.12.0"
  }
 },
 "nbformat": 4,
 "nbformat_minor": 2
}

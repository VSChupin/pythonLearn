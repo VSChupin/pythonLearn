{
 "cells": [
  {
   "cell_type": "code",
   "execution_count": null,
   "metadata": {},
   "outputs": [],
   "source": [
    "with open('text_files/pi_digits.txt') as file_object:\n",
    "    contents = file_object.read()\n",
    "    print(contents)"
   ]
  },
  {
   "cell_type": "code",
   "execution_count": null,
   "metadata": {},
   "outputs": [],
   "source": [
    "filename = 'text_files/pi_million_digits.txt'\n",
    "\n",
    "with open(filename) as file_object:\n",
    "    lines = file_object.readlines()\n",
    "    \n",
    "pi_string = ''\n",
    "\n",
    "for line in lines:\n",
    "    pi_string += line.strip()\n",
    "\n",
    "print(pi_string[:52] + '...')\n",
    "print(len(pi_string))"
   ]
  },
  {
   "cell_type": "code",
   "execution_count": null,
   "metadata": {},
   "outputs": [],
   "source": [
    "filename = 'text_files/pi_million_digits.txt'\n",
    "\n",
    "with open(filename) as file_object:\n",
    "    lines = file_object.readlines()\n",
    "    \n",
    "pi_string = ''\n",
    "\n",
    "for line in lines:\n",
    "    pi_string += line.strip()\n",
    "\n",
    "birthday = input('Enter yout birthday in form mmddyy: ')\n",
    "if birthday in pi_string:\n",
    "    print(\"Your birthay appears in the first million digits of pi!\")\n",
    "else:\n",
    "    print(\"Your birthday does not appear in the first million digits of pi.\")"
   ]
  },
  {
   "cell_type": "code",
   "execution_count": null,
   "metadata": {},
   "outputs": [],
   "source": [
    "filename = 'text_files/write_text.txt'\n",
    "\n",
    "with open(filename, 'w') as file_object:\n",
    "    file_object.write(\"I love programming.\")\n",
    "    "
   ]
  },
  {
   "cell_type": "code",
   "execution_count": null,
   "metadata": {},
   "outputs": [],
   "source": [
    "filename = 'text_files/guests.txt'\n",
    "\n",
    "with open(filename, 'a') as file_object:\n",
    "    name = input(\"Enter your name please: \")\n",
    "    file_object.write(name + \"\\n\")"
   ]
  },
  {
   "cell_type": "code",
   "execution_count": null,
   "metadata": {},
   "outputs": [],
   "source": [
    "while True:\n",
    "    name = input(\"Please, enter your name or enter 'exit' to finish: \")\n",
    "    if name == \"exit\" or name == '':\n",
    "        break\n",
    "\n",
    "    hello_msg = f\"Hello, {name}\"\n",
    "    print(hello_msg)\n",
    "    \n",
    "    filename = \"text_files/hellow_ppl.txt\"\n",
    "    with open(filename, 'a') as file_object:\n",
    "        file_object.write(hello_msg + '\\n')\n",
    "        \n"
   ]
  },
  {
   "cell_type": "code",
   "execution_count": null,
   "metadata": {},
   "outputs": [],
   "source": [
    "try:\n",
    "    print(5/0)\n",
    "except ZeroDivisionError:\n",
    "    print(\"You can't divide by zero!\")"
   ]
  },
  {
   "cell_type": "code",
   "execution_count": 5,
   "metadata": {},
   "outputs": [
    {
     "name": "stdout",
     "output_type": "stream",
     "text": [
      "the file text_files/alice.txt has about 29594 words.\n",
      "the file text_files/moby_dick.txt has about 215864 words.\n"
     ]
    }
   ],
   "source": [
    "filenames = ['text_files/alice.txt', 'text_files/little_women.txt','text_files/moby_dick.txt']\n",
    "\n",
    "def count_words(filename):\n",
    "        \n",
    "    try:\n",
    "        with open(filename) as f_obj:\n",
    "            contents = f_obj.read()\n",
    "    except FileNotFoundError: \n",
    "        pass\n",
    "        # msg = \"Sorry, the file \" + filename + \" does not exist.\"\n",
    "        # print(msg)\n",
    "    else: \n",
    "        words = contents.split()\n",
    "        num_words = len(words)\n",
    "        print(\"the file \" + filename + \" has about \" + str(num_words) + \" words.\")\n",
    "    \n",
    "\n",
    "for filename in filenames:\n",
    "    count_words(filename)\n",
    "    "
   ]
  }
 ],
 "metadata": {
  "kernelspec": {
   "display_name": "Python 3",
   "language": "python",
   "name": "python3"
  },
  "language_info": {
   "codemirror_mode": {
    "name": "ipython",
    "version": 3
   },
   "file_extension": ".py",
   "mimetype": "text/x-python",
   "name": "python",
   "nbconvert_exporter": "python",
   "pygments_lexer": "ipython3",
   "version": "3.12.1"
  }
 },
 "nbformat": 4,
 "nbformat_minor": 2
}

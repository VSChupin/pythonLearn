{
 "cells": [
  {
   "cell_type": "markdown",
   "metadata": {},
   "source": [
    "В этой главе вы научились работать с файлами. Вы узнали, как прочитать сразу весь\n",
    "файл и как читать его содержимое по строкам. Вы научились записывать в файл\n",
    "и присоединять текст в конец файла, познакомились с исключениями и средствами\n",
    "обработки исключений, возникающих в программе. В завершающей части главы\n",
    "рассматриваются структуры данных Python для сохранения введенной информа-\n",
    "ции, чтобы пользователю не приходилось каждый раз вводить данные заново при\n",
    "каждом запуске программы.\n",
    "В главе 11 мы займемся эффективной организацией тестирования вашего кода. Те-\n",
    "стирование поможет убедиться в том, что написанный код работает правильно, а так-\n",
    "же выявит ошибки, внесенные в процессе расширения уже написанных программ."
   ]
  },
  {
   "cell_type": "code",
   "execution_count": null,
   "metadata": {},
   "outputs": [],
   "source": [
    "with open('text_files/pi_digits.txt') as file_object:\n",
    "    contents = file_object.read()\n",
    "    print(contents)"
   ]
  },
  {
   "cell_type": "code",
   "execution_count": null,
   "metadata": {},
   "outputs": [],
   "source": [
    "filename = 'text_files/pi_million_digits.txt'\n",
    "\n",
    "with open(filename) as file_object:\n",
    "    lines = file_object.readlines()\n",
    "    \n",
    "pi_string = ''\n",
    "\n",
    "for line in lines:\n",
    "    pi_string += line.strip()\n",
    "\n",
    "print(pi_string[:52] + '...')\n",
    "print(len(pi_string))"
   ]
  },
  {
   "cell_type": "code",
   "execution_count": null,
   "metadata": {},
   "outputs": [],
   "source": [
    "filename = 'text_files/pi_million_digits.txt'\n",
    "\n",
    "with open(filename) as file_object:\n",
    "    lines = file_object.readlines()\n",
    "    \n",
    "pi_string = ''\n",
    "\n",
    "for line in lines:\n",
    "    pi_string += line.strip()\n",
    "\n",
    "birthday = input('Enter yout birthday in form mmddyy: ')\n",
    "if birthday in pi_string:\n",
    "    print(\"Your birthay appears in the first million digits of pi!\")\n",
    "else:\n",
    "    print(\"Your birthday does not appear in the first million digits of pi.\")"
   ]
  },
  {
   "cell_type": "code",
   "execution_count": null,
   "metadata": {},
   "outputs": [],
   "source": [
    "filename = 'text_files/write_text.txt'\n",
    "\n",
    "with open(filename, 'w') as file_object:\n",
    "    file_object.write(\"I love programming.\")\n",
    "    "
   ]
  },
  {
   "cell_type": "code",
   "execution_count": null,
   "metadata": {},
   "outputs": [],
   "source": [
    "filename = 'text_files/guests.txt'\n",
    "\n",
    "with open(filename, 'a') as file_object:\n",
    "    name = input(\"Enter your name please: \")\n",
    "    file_object.write(name + \"\\n\")"
   ]
  },
  {
   "cell_type": "code",
   "execution_count": null,
   "metadata": {},
   "outputs": [],
   "source": [
    "while True:\n",
    "    name = input(\"Please, enter your name or enter 'exit' to finish: \")\n",
    "    if name == \"exit\" or name == '':\n",
    "        break\n",
    "\n",
    "    hello_msg = f\"Hello, {name}\"\n",
    "    print(hello_msg)\n",
    "    \n",
    "    filename = \"text_files/hellow_ppl.txt\"\n",
    "    with open(filename, 'a') as file_object:\n",
    "        file_object.write(hello_msg + '\\n')\n",
    "        \n"
   ]
  },
  {
   "cell_type": "code",
   "execution_count": null,
   "metadata": {},
   "outputs": [],
   "source": [
    "try:\n",
    "    print(5/0)\n",
    "except ZeroDivisionError:\n",
    "    print(\"You can't divide by zero!\")"
   ]
  },
  {
   "cell_type": "code",
   "execution_count": null,
   "metadata": {},
   "outputs": [],
   "source": [
    "filenames = ['text_files/alice.txt', 'text_files/little_women.txt','text_files/moby_dick.txt']\n",
    "\n",
    "def count_words(filename):\n",
    "        \n",
    "    try:\n",
    "        with open(filename) as f_obj:\n",
    "            contents = f_obj.read()\n",
    "    except FileNotFoundError: \n",
    "        pass\n",
    "        # msg = \"Sorry, the file \" + filename + \" does not exist.\"\n",
    "        # print(msg)\n",
    "    else: \n",
    "        words = contents.split()\n",
    "        num_words = len(words)\n",
    "        print(\"the file \" + filename + \" has about \" + str(num_words) + \" words.\")\n",
    "    \n",
    "\n",
    "for filename in filenames:\n",
    "    count_words(filename)\n",
    "    "
   ]
  },
  {
   "cell_type": "code",
   "execution_count": null,
   "metadata": {},
   "outputs": [],
   "source": [
    "def numbers():\n",
    "    while True:\n",
    "        try:\n",
    "            first = input(\"Enter the first number: \")\n",
    "            if first == 'q':\n",
    "                break\n",
    "            second = input(\"Enter the second number: \")\n",
    "            if second == 'q':\n",
    "                break\n",
    "            summ = int(first) + int(second)\n",
    "            print(summ)    \n",
    "        except ValueError:\n",
    "            print(\"Неверный формат вводимых данных.\") \n",
    "            \n",
    "numbers()"
   ]
  },
  {
   "cell_type": "code",
   "execution_count": null,
   "metadata": {},
   "outputs": [],
   "source": [
    "def lookinto(filename):\n",
    "    try:\n",
    "        with open(filename) as file_obj:\n",
    "            lines = file_obj.readlines()\n",
    "        \n",
    "        for line in lines:\n",
    "            print(f\"{filename}:{line.rstrip()}\")\n",
    "    except FileNotFoundError:\n",
    "        # print(f\"{filename} не найден.\")\n",
    "        pass\n",
    "    \n",
    "lookinto('text_files/cats.txt')\n",
    "print(\"\\n\")\n",
    "lookinto('text_files/dogs.txt')\n",
    "\n"
   ]
  },
  {
   "cell_type": "code",
   "execution_count": null,
   "metadata": {},
   "outputs": [],
   "source": [
    "def count_words(filename):\n",
    "    \n",
    "    try:\n",
    "        with open(filename) as file_obj:\n",
    "            content = file_obj.read()\n",
    "        \n",
    "        \n",
    "        print(content.lower().count('the'))\n",
    "    \n",
    "    except FileNotFoundError:\n",
    "        pass\n",
    "\n",
    "filenames = ['text_files/moby_dick.txt','text_files/alice.txt']\n",
    "\n",
    "for filename in filenames:\n",
    "    count_words(filename)"
   ]
  },
  {
   "cell_type": "code",
   "execution_count": null,
   "metadata": {},
   "outputs": [],
   "source": [
    "import json\n",
    "\n",
    "\n",
    "def jsondump():\n",
    "    \n",
    "    numbers = [1,2,3,4,5,16,7]\n",
    "\n",
    "    filename = 'numbers.json'\n",
    "\n",
    "    with open(filename, 'w') as file_obj:\n",
    "        json.dump(numbers, file_obj)\n",
    "\n",
    "jsondump()   \n",
    "\n",
    "def jsonload():\n",
    "    \n",
    "    filename = 'numbers.json'\n",
    "    \n",
    "    with open(filename, 'r') as file_obj:\n",
    "        numbers = json.load(file_obj)\n",
    "    \n",
    "    print(numbers)\n",
    "    \n",
    "jsonload()\n"
   ]
  },
  {
   "cell_type": "code",
   "execution_count": null,
   "metadata": {},
   "outputs": [],
   "source": [
    "import json \n",
    "\n",
    "def remember():\n",
    "    \n",
    "    filename = 'username.json'\n",
    "    \n",
    "    try:\n",
    "        with open(filename) as file_obj:\n",
    "            username = json.load(file_obj)\n",
    "    except FileNotFoundError:\n",
    "        \n",
    "        username = input(\"Enter your username, and we remember you, when you come back! \")\n",
    "        with open(filename, 'w') as file_obj:\n",
    "            json.dump(username, file_obj)\n",
    "    else:\n",
    "        print(f\"Hi, {username}.\")\n",
    "    \n",
    "remember()"
   ]
  },
  {
   "cell_type": "code",
   "execution_count": null,
   "metadata": {},
   "outputs": [],
   "source": [
    "import json\n",
    "\n",
    "def get_stored_username():\n",
    "    \"\"\"Получает хранимое имя пользователя, если оно существует.\"\"\"\n",
    "    filename = 'username.json'\n",
    "    try:\n",
    "        with open(filename) as f_obj:\n",
    "            username = json.load(f_obj)\n",
    "    except FileNotFoundError:\n",
    "        return None\n",
    "    else:\n",
    "        return username\n",
    "    \n",
    "def get_new_username():\n",
    "    \"\"\"Запрашивает новое имя пользователя.\"\"\"\n",
    "    username = input(\"What is your name? \")\n",
    "    filename = 'username.json'\n",
    "    with open(filename, 'w') as f_obj:\n",
    "        json.dump(username, f_obj)\n",
    "        return username\n",
    "    \n",
    "def greet_user():\n",
    "    \"\"\"Приветствует пользователя по имени.\"\"\"\n",
    "    username = get_stored_username()\n",
    "    \n",
    "    if username:\n",
    "        print(\"Welcome back, \" + username + \"!\")\n",
    "    else:\n",
    "        username = get_new_username()\n",
    "        print(\"We'll remember you when you come back, \" + username + \"!\")\n",
    "\n",
    "greet_user()"
   ]
  },
  {
   "cell_type": "code",
   "execution_count": null,
   "metadata": {},
   "outputs": [
    {
     "ename": "",
     "evalue": "",
     "output_type": "error",
     "traceback": [
      "\u001b[1;31mНе удалось запустить ядро \"Python 3.12.1\", так как истекло время ожидания подключения. \n",
      "\u001b[1;31mДополнительные сведения см. в [журнале] Jupyter (command:jupyter.viewOutput)."
     ]
    }
   ],
   "source": [
    "import json\n",
    "\n",
    "def input_number():\n",
    "    \n",
    "    number = input(\"Enter your favorite number: \")\n",
    "\n",
    "    filename = 'pythonLearn/normal/10_character/number.json'\n",
    "    with open(filename, 'w') as file_obj:\n",
    "        json.dump(number, file_obj)\n",
    "    return number\n",
    "\n",
    "def get_number():\n",
    "    filename = \"pythonLearn/normal/10_character/number.json\"\n",
    "    try:\n",
    "        with open(filename) as file_obj:\n",
    "            number = json.load(file_obj)\n",
    "    except FileNotFoundError:\n",
    "        return None\n",
    "    else:\n",
    "        return number\n",
    "        \n",
    "1\n",
    "def show_number():\n",
    "    number = get_number()\n",
    "    \n",
    "    if number:\n",
    "        print(f\"Your favorite number is {number}\")\n",
    "    else:\n",
    "        number = input_number()\n",
    "        print(f\"We remember your favorite number {number}.\")\n",
    "    \n",
    "\n",
    "show_number()"
   ]
  }
 ],
 "metadata": {
  "kernelspec": {
   "display_name": "Python 3",
   "language": "python",
   "name": "python3"
  },
  "language_info": {
   "codemirror_mode": {
    "name": "ipython",
    "version": 3
   },
   "file_extension": ".py",
   "mimetype": "text/x-python",
   "name": "python",
   "nbconvert_exporter": "python",
   "pygments_lexer": "ipython3",
   "version": "3.12.1"
  }
 },
 "nbformat": 4,
 "nbformat_minor": 2
}

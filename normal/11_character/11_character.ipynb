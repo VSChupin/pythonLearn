{
 "cells": [
  {
   "cell_type": "markdown",
   "metadata": {},
   "source": [
    "В этой главе вы научитесь тестировать код средствами модуля Python unittest.\n",
    "Вы узнаете, как построить тестовые сценарии, как проверить, выдает ли программа\n",
    "для конкретных входных данных ожидаемый результат и как тестировать функ-\n",
    "ции и классы. Также вы научитесь оценивать, сколько тестов нужно написать для\n",
    "проекта."
   ]
  },
  {
   "cell_type": "code",
   "execution_count": 5,
   "metadata": {},
   "outputs": [
    {
     "data": {
      "text/plain": [
       "'Vova Chupin'"
      ]
     },
     "execution_count": 5,
     "metadata": {},
     "output_type": "execute_result"
    }
   ],
   "source": [
    "def get_formatted_name(first, last):\n",
    "    \n",
    "    full_name = first + \" \" + last\n",
    "    \n",
    "    return full_name.title()\n",
    "\n",
    "get_formatted_name(\"vova\", \"chupin\")"
   ]
  }
 ],
 "metadata": {
  "kernelspec": {
   "display_name": "Python 3",
   "language": "python",
   "name": "python3"
  },
  "language_info": {
   "codemirror_mode": {
    "name": "ipython",
    "version": 3
   },
   "file_extension": ".py",
   "mimetype": "text/x-python",
   "name": "python",
   "nbconvert_exporter": "python",
   "pygments_lexer": "ipython3",
   "version": "3.12.1"
  }
 },
 "nbformat": 4,
 "nbformat_minor": 2
}

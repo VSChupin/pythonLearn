{
 "cells": [
  {
   "cell_type": "code",
   "execution_count": 2,
   "metadata": {},
   "outputs": [
    {
     "name": "stdout",
     "output_type": "stream",
     "text": [
      "2023 Tesla Model S\n",
      "This car have 70-kWh battery.\n",
      "This car can go approximately 240 miles on a full charge.\n",
      "This car have 85-kWh battery.\n",
      "This car can go approximately 270 miles on a full charge.\n"
     ]
    }
   ],
   "source": [
    "from car import ElectricCar\n",
    "\n",
    "new_electro = ElectricCar('tesla','model S', 2023)\n",
    "\n",
    "print(new_electro.get_descriptive_name())\n",
    "\n",
    "new_electro.battery.describe_battery()\n",
    "new_electro.battery.get_range()\n",
    "\n",
    "new_electro.battery.upgrade_battery()\n",
    "\n",
    "new_electro.battery.describe_battery()\n",
    "new_electro.battery.get_range()"
   ]
  }
 ],
 "metadata": {
  "kernelspec": {
   "display_name": "Python 3",
   "language": "python",
   "name": "python3"
  },
  "language_info": {
   "codemirror_mode": {
    "name": "ipython",
    "version": 3
   },
   "file_extension": ".py",
   "mimetype": "text/x-python",
   "name": "python",
   "nbconvert_exporter": "python",
   "pygments_lexer": "ipython3",
   "version": "3.12.1"
  }
 },
 "nbformat": 4,
 "nbformat_minor": 2
}

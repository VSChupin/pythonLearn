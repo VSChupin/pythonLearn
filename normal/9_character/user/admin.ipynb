{
 "cells": [
  {
   "cell_type": "code",
   "execution_count": 3,
   "metadata": {},
   "outputs": [
    {
     "name": "stdout",
     "output_type": "stream",
     "text": [
      "Разрешено добавлять сообщения\n",
      "Разрешено удалять пользователей\n",
      "Разрешено закреплять сообщения\n"
     ]
    }
   ],
   "source": [
    "from user_admin_prive import Admin\n",
    "\n",
    "new_admin = Admin('Ivan', 'Keks', 34, 'Moscow')\n",
    "\n",
    "new_admin.privileges.show_moves()"
   ]
  }
 ],
 "metadata": {
  "kernelspec": {
   "display_name": "Python 3",
   "language": "python",
   "name": "python3"
  },
  "language_info": {
   "codemirror_mode": {
    "name": "ipython",
    "version": 3
   },
   "file_extension": ".py",
   "mimetype": "text/x-python",
   "name": "python",
   "nbconvert_exporter": "python",
   "pygments_lexer": "ipython3",
   "version": "3.12.1"
  }
 },
 "nbformat": 4,
 "nbformat_minor": 2
}

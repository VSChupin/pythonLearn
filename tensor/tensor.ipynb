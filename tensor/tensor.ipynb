{
 "cells": [
  {
   "cell_type": "code",
   "execution_count": 65,
   "metadata": {},
   "outputs": [
    {
     "name": "stdout",
     "output_type": "stream",
     "text": [
      "Ok, session id received. See the id_session.json.\n"
     ]
    }
   ],
   "source": [
    "import os\n",
    "import datetime as date\n",
    "import requests as req\n",
    "import json \n",
    "\n",
    "now = date.datetime.now()\n",
    "url_auth = \"https://fix-online.sbis.ru/auth/service/\"\n",
    "url_work = \"https://fix-online.sbis.ru/service/\"\n",
    "\n",
    "filename_auth = \"id_session_\"+ sabyIdSession + \"_\" + now.strftime(\"%Y-%m-%d_%H-%M-%S\") + \".json\"\n",
    "filename_doc = \"doc_id_\" + id_doc_vi + \"_\" + \"id_session_\" + sabyIdSession + \"_\" + now.strftime(\"%Y-%m-%d_%H-%M-%S\") + \".json\"\n",
    "\n",
    "# Autorization\n",
    "\n",
    "headers = {'Content-Type': 'application/json-rpc;charset=utf-8',\n",
    "           'Accept': '*/*',\n",
    "           'User-Agent': 'DpLvl'\n",
    "          }\n",
    " \n",
    "auth_body = {\n",
    "   \"jsonrpc\": \"2.0\",\n",
    "   \"method\": \"СБИС.Аутентифицировать\",\n",
    "   \"params\": {\n",
    "      \"Параметр\": {\n",
    "         \"Логин\": \"чупин-отпр\",\n",
    "         \"Пароль\": \"чупин-отпр123\"\n",
    "      }\n",
    "   },\n",
    "   \"id\": 0\n",
    "}\n",
    "\n",
    "saby_auth = req.post(url_auth, headers = headers, data = json.dumps(auth_body)) \n",
    "with open(filename_auth,'w') as f:\n",
    "   f.write(saby_auth.text)\n",
    "   \n",
    "sabyIdSession = saby_auth.json().get('result')\n",
    "\n",
    "if saby_auth.status_code == 200: \n",
    "   print('Ok, session id received. See the id_session.json.')"
   ]
  },
  {
   "cell_type": "code",
   "execution_count": 64,
   "metadata": {},
   "outputs": [
    {
     "name": "stdout",
     "output_type": "stream",
     "text": [
      "Ok, The document is caught. See the doc_.json\n"
     ]
    }
   ],
   "source": [
    "\n",
    "# Work. Read_document\n",
    " \n",
    "headers = {'Content-Type': 'application/json-rpc;charset=utf-8',\n",
    "           'Accept': '*/*',\n",
    "           'User-Agent': 'DpLvl',\n",
    "           'X-SBISSessionID': sabyIdSession\n",
    "          }\n",
    "\n",
    "id_doc_vi = \"f473c072-f615-4a0e-9b18-3ee63f83cd6f\"\n",
    "\n",
    "read_doc_body = {\n",
    "   \"jsonrpc\": \"2.0\",\n",
    "   \"method\": \"СБИС.ПрочитатьДокумент\",\n",
    "   \"params\": {\n",
    "      \"Документ\": {\n",
    "         \"Идентификатор\": id_doc_vi,\n",
    "         \"ДопПоля\": \"ДополнительныеПоля\"\n",
    "      }\n",
    "   },\n",
    "   \"id\": 0\n",
    "}\n",
    "\n",
    "saby_read_doc = req.post(url_work, headers=headers, data= json.dumps(read_doc_body))\n",
    "with open(filename_doc,'w') as f:\n",
    "   f.write(saby_read_doc.text)\n",
    "   \n",
    "if saby_read_doc.status_code == 200: \n",
    "   print(\"Ok, The document is caught. See the doc_.json\")\n"
   ]
  }
 ],
 "metadata": {
  "kernelspec": {
   "display_name": "Python 3",
   "language": "python",
   "name": "python3"
  },
  "language_info": {
   "codemirror_mode": {
    "name": "ipython",
    "version": 3
   },
   "file_extension": ".py",
   "mimetype": "text/x-python",
   "name": "python",
   "nbconvert_exporter": "python",
   "pygments_lexer": "ipython3",
   "version": "3.12.0"
  }
 },
 "nbformat": 4,
 "nbformat_minor": 2
}

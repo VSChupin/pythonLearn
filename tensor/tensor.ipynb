{
 "cells": [
  {
   "cell_type": "code",
   "execution_count": 2,
   "metadata": {},
   "outputs": [],
   "source": [
    "import requests\n",
    "import json \n",
    "\n",
    "url_auth = \"https://fix-online.sbis.ru/auth/service/\"\n",
    "url_work = \"https://fix-online.sbis.ru/\"\n",
    "\n",
    "headers = {'Content-Type': 'application/json-rpc;charset=utf-8',\n",
    "           'Accept': '*/*',\n",
    "           'User-Agent': 'DpLvl'\n",
    "          }\n",
    "\n",
    "auth_body = {\n",
    "   \"jsonrpc\": \"2.0\",\n",
    "   \"method\": \"СБИС.Аутентифицировать\",\n",
    "   \"params\": {\n",
    "      \"Параметр\": {\n",
    "         \"Логин\": \"чупин-отпр\",\n",
    "         \"Пароль\": \"чупин-отпр123\"\n",
    "      }\n",
    "   },\n",
    "   \"id\": 0\n",
    "}\n",
    "\n",
    "saby_auth = requests.post(url_auth, headers = headers, data = json.dumps(auth_body)) \n",
    "\n",
    "sabyIdSession = saby_auth.json().get('result')"
   ]
  }
 ],
 "metadata": {
  "kernelspec": {
   "display_name": "Python 3",
   "language": "python",
   "name": "python3"
  },
  "language_info": {
   "codemirror_mode": {
    "name": "ipython",
    "version": 3
   },
   "file_extension": ".py",
   "mimetype": "text/x-python",
   "name": "python",
   "nbconvert_exporter": "python",
   "pygments_lexer": "ipython3",
   "version": "3.12.0"
  }
 },
 "nbformat": 4,
 "nbformat_minor": 2
}
